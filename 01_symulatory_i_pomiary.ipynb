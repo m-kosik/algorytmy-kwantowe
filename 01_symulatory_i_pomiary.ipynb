{
 "cells": [
  {
   "cell_type": "code",
   "execution_count": 1,
   "metadata": {},
   "outputs": [],
   "source": [
    "from qiskit import QuantumCircuit, Aer\n",
    "from qiskit.quantum_info import random_unitary\n",
    "from qiskit.visualization import array_to_latex, plot_histogram"
   ]
  },
  {
   "cell_type": "markdown",
   "metadata": {},
   "source": [
    "Przy pomocy biblioteki Qiskit można uruchamiać programy w dwojaki sposób:\n",
    "- na prawdziwym komputerze kwantowym przez platformę IBM (https://quantum.ibm.com/)\n",
    "- przy pomocy symulatorów, które odtwarzają w przybliżony sposób zachowanie prawdziwego komputera kwantowego.  \n",
    "\n",
    "Symulatory są dostępne w paczce Qiskit Aer. Poniżej wyświetlimy listę lokalnie dostępnych symulatorów."
   ]
  },
  {
   "cell_type": "code",
   "execution_count": 2,
   "metadata": {},
   "outputs": [
    {
     "data": {
      "text/plain": [
       "[AerSimulator('aer_simulator'),\n",
       " AerSimulator('aer_simulator_statevector'),\n",
       " AerSimulator('aer_simulator_density_matrix'),\n",
       " AerSimulator('aer_simulator_stabilizer'),\n",
       " AerSimulator('aer_simulator_matrix_product_state'),\n",
       " AerSimulator('aer_simulator_extended_stabilizer'),\n",
       " AerSimulator('aer_simulator_unitary'),\n",
       " AerSimulator('aer_simulator_superop'),\n",
       " QasmSimulator('qasm_simulator'),\n",
       " StatevectorSimulator('statevector_simulator'),\n",
       " UnitarySimulator('unitary_simulator'),\n",
       " PulseSimulator('pulse_simulator')]"
      ]
     },
     "execution_count": 2,
     "metadata": {},
     "output_type": "execute_result"
    }
   ],
   "source": [
    "# Wyświetlenie dostępnych backendów do symulacji:\n",
    "Aer.backends()"
   ]
  },
  {
   "cell_type": "markdown",
   "metadata": {},
   "source": [
    "### Unitary Simulator\n",
    "Symulator *Unitary Simulator* służy do reprezentowania bramek w ich postaci macierzowej (jako operatory unitarne - macierze unitarne - stąd nazwa). Działanie całego obwodu złożonego z wielu bramek można opisać jednym operatorem unitarnym - symulator Unitary pozwala wyświetlić postać tego operatora. Poniżej zobaczymy jego działanie dla przykładowego obwodu.   "
   ]
  },
  {
   "cell_type": "code",
   "execution_count": 3,
   "metadata": {},
   "outputs": [
    {
     "data": {
      "image/png": "[encoded data removed]",
      "text/plain": [
       "<Figure size 287.294x200.667 with 1 Axes>"
      ]
     },
     "execution_count": 3,
     "metadata": {},
     "output_type": "execute_result"
    }
   ],
   "source": [
    "# Definiujemy obwód kwantowy złożony z dwóch kubitów. \n",
    "# Nie mamy potrzeby wykonywać tutaj żadnych pomiarów, stąd nie potrzeba bitów klasycznych.\n",
    "# Następnie dodajemy do niego dwie bramki - Hadamarda w działaniu na 1 kubit oraz CNOT.\n",
    "\n",
    "circuit = QuantumCircuit(2)\n",
    "circuit.h(0)\n",
    "circuit.cx(0, 1)\n",
    "circuit.draw('mpl')"
   ]
  },
  {
   "cell_type": "code",
   "execution_count": 4,
   "metadata": {},
   "outputs": [
    {
     "data": {
      "text/plain": [
       "{'unitary': Operator([[ 0.70710678+0.00000000e+00j,  0.70710678-8.65956056e-17j,\n",
       "             0.        +0.00000000e+00j,  0.        +0.00000000e+00j],\n",
       "           [ 0.        +0.00000000e+00j,  0.        +0.00000000e+00j,\n",
       "             0.70710678+0.00000000e+00j, -0.70710678+8.65956056e-17j],\n",
       "           [ 0.        +0.00000000e+00j,  0.        +0.00000000e+00j,\n",
       "             0.70710678+0.00000000e+00j,  0.70710678-8.65956056e-17j],\n",
       "           [ 0.70710678+0.00000000e+00j, -0.70710678+8.65956056e-17j,\n",
       "             0.        +0.00000000e+00j,  0.        +0.00000000e+00j]],\n",
       "          input_dims=(2, 2), output_dims=(2, 2))}"
      ]
     },
     "execution_count": 4,
     "metadata": {},
     "output_type": "execute_result"
    }
   ],
   "source": [
    "# Wybieramy symulator - \"Unitary simulator\"\n",
    "unitary_simulator = Aer.get_backend('unitary_simulator')       \n",
    "\n",
    "# Przeprowadzamy symulację i odczytujemy wynik\n",
    "unitary_simulator_result = unitary_simulator.run(circuit).result()\n",
    "unitary_simulator_result.data()"
   ]
  },
  {
   "cell_type": "markdown",
   "metadata": {},
   "source": [
    "Wynikiem jest operator opisujący przekształcenia wykonywane przez cały obwód, przedstawiony w reprezentacji macierzowej. Możemy wyświetlić go w postaci macierzy, korzystając z funkcji  `array_to_latex`."
   ]
  },
  {
   "cell_type": "code",
   "execution_count": 5,
   "metadata": {},
   "outputs": [
    {
     "data": {
      "text/latex": [
       "$$\n",
       "\n",
       "\\begin{bmatrix}\n",
       "\\tfrac{1}{\\sqrt{2}} & \\tfrac{1}{\\sqrt{2}} & 0 & 0  \\\\\n",
       " 0 & 0 & \\tfrac{1}{\\sqrt{2}} & -\\tfrac{1}{\\sqrt{2}}  \\\\\n",
       " 0 & 0 & \\tfrac{1}{\\sqrt{2}} & \\tfrac{1}{\\sqrt{2}}  \\\\\n",
       " \\tfrac{1}{\\sqrt{2}} & -\\tfrac{1}{\\sqrt{2}} & 0 & 0  \\\\\n",
       " \\end{bmatrix}\n",
       "$$"
      ],
      "text/plain": [
       "<IPython.core.display.Latex object>"
      ]
     },
     "execution_count": 5,
     "metadata": {},
     "output_type": "execute_result"
    }
   ],
   "source": [
    "array_to_latex(unitary_simulator_result.get_unitary())"
   ]
  },
  {
   "cell_type": "code",
   "execution_count": 6,
   "metadata": {},
   "outputs": [
    {
     "data": {
      "text/plain": [
       "Operator([[ 0.38029138+0.48013457j, -0.75398276-0.09833324j,\n",
       "            0.16991904-0.11755237j, -0.06140479-0.01510787j],\n",
       "          [-0.50909224+0.21907228j, -0.06345678+0.28200967j,\n",
       "            0.11687979-0.60818787j,  0.28113332+0.38299724j],\n",
       "          [-0.39385453-0.20568854j, -0.52559392+0.02467264j,\n",
       "           -0.66498347+0.26411724j, -0.00787728+0.11700488j],\n",
       "          [ 0.3049095 -0.1651748j , -0.00976676-0.24765149j,\n",
       "            0.05573966+0.24225553j,  0.66624625+0.55914409j]],\n",
       "         input_dims=(2, 2), output_dims=(2, 2))"
      ]
     },
     "execution_count": 6,
     "metadata": {},
     "output_type": "execute_result"
    }
   ],
   "source": [
    "circuit = QuantumCircuit(2)\n",
    "circuit.set_unitary(random_unitary(4))\n",
    "circuit.h(0)\n",
    "circuit.cx(0, 1)\n",
    "unitary_simulator_result = unitary_simulator.run(circuit).result()\n",
    "unitary_simulator_result.get_unitary()"
   ]
  },
  {
   "cell_type": "markdown",
   "metadata": {},
   "source": [
    "### Statevector Simulator\n",
    "\n",
    "Symulator *Statevector Simulator* daje dostęp do stanu układu w postaci wektora.  \n",
    "Od wersji Qiskit 1.0 jest też możliwość wyświetlania stanu przy pomocy klasy `Statevector` z modułu `qiskit.quantum_info`. Zostanie ona przedstawiona w notatniku `02_stany_kwantowe.ipynb`.  "
   ]
  },
  {
   "cell_type": "code",
   "execution_count": 7,
   "metadata": {},
   "outputs": [
    {
     "data": {
      "text/plain": [
       "{'statevector': Statevector([0.70710678+0.j, 0.        +0.j, 0.        +0.j,\n",
       "              0.70710678+0.j],\n",
       "             dims=(2, 2))}"
      ]
     },
     "execution_count": 7,
     "metadata": {},
     "output_type": "execute_result"
    }
   ],
   "source": [
    "# Ponownie definiujemy obwód kwantowy złożony z dwóch kubitów. \n",
    "# Tak jak wyżej - nie mamy potrzeby wykonywać tutaj żadnych pomiarów, stąd nie potrzeba bitów klasycznych.\n",
    "# Następnie dodajemy do niego dwie bramki - Hadamarda w działaniu na 1 kubit oraz CNOT.\n",
    "\n",
    "circuit = QuantumCircuit(2)\n",
    "circuit.h(0)\n",
    "circuit.cx(0, 1)\n",
    "\n",
    "statevector_simulator = Aer.get_backend('statevector_simulator')\n",
    "statevector_simulator_result = statevector_simulator.run(circuit).result()\n",
    "statevector_simulator_result.data()"
   ]
  },
  {
   "cell_type": "markdown",
   "metadata": {},
   "source": [
    "Wynikiem jest wektor opisujący stan układu po przejściu przez cały obwód kwantowy.  "
   ]
  },
  {
   "cell_type": "code",
   "execution_count": 8,
   "metadata": {},
   "outputs": [
    {
     "data": {
      "text/latex": [
       "$$\n",
       "\n",
       "\\begin{bmatrix}\n",
       "\\tfrac{1}{\\sqrt{2}} & 0 & 0 & \\tfrac{1}{\\sqrt{2}}  \\\\\n",
       " \\end{bmatrix}\n",
       "$$"
      ],
      "text/plain": [
       "<IPython.core.display.Latex object>"
      ]
     },
     "execution_count": 8,
     "metadata": {},
     "output_type": "execute_result"
    }
   ],
   "source": [
    "array_to_latex(statevector_simulator_result.get_statevector())"
   ]
  },
  {
   "cell_type": "markdown",
   "metadata": {},
   "source": [
    "### QASM Simulator  \n",
    "Symulator *QASM* symuluje wykonywanie pomiarów na rzeczywistym komputerze kwantowym. Domyślnie symuluje on pomiary na idealnym komputerze kwantowym - bez szumu czy dekoherencji.   "
   ]
  },
  {
   "cell_type": "code",
   "execution_count": 9,
   "metadata": {},
   "outputs": [
    {
     "data": {
      "image/png": "[encoded data removed]",
      "text/plain": [
       "<Figure size 454.517x284.278 with 1 Axes>"
      ]
     },
     "execution_count": 9,
     "metadata": {},
     "output_type": "execute_result"
    }
   ],
   "source": [
    "# Definiujemy obwód z dwoma kubitami. \n",
    "# Tutaj już będziemy wykonywać pomiary (z racji, że chcemy symulować rzeczywiste urządzenie),\n",
    "# więc dodajemy dwa bity klasyczne na zapisanie wyników pomiarów.\n",
    "\n",
    "circuit = QuantumCircuit(2, 2)\n",
    "circuit.h(0)\n",
    "circuit.cx(0, 1)\n",
    "circuit.measure([0,1], [0,1])\n",
    "circuit.draw('mpl')"
   ]
  },
  {
   "cell_type": "code",
   "execution_count": 10,
   "metadata": {},
   "outputs": [
    {
     "data": {
      "text/plain": [
       "{'00': 504, '11': 520}"
      ]
     },
     "execution_count": 10,
     "metadata": {},
     "output_type": "execute_result"
    }
   ],
   "source": [
    "qasm_simulator = Aer.get_backend('qasm_simulator')\n",
    "qasm_simulator_result = qasm_simulator.run(circuit).result()\n",
    "qasm_simulator_result.get_counts()"
   ]
  },
  {
   "cell_type": "markdown",
   "metadata": {},
   "source": [
    "Standardowo wynikiem symulacji jest słownik Python. Można zwizualizować wyniki histogramem:"
   ]
  },
  {
   "cell_type": "code",
   "execution_count": 13,
   "metadata": {},
   "outputs": [
    {
     "data": {
      "image/png": "[encoded data removed]",
      "text/plain": [
       "<Figure size 700x500 with 1 Axes>"
      ]
     },
     "execution_count": 13,
     "metadata": {},
     "output_type": "execute_result"
    }
   ],
   "source": [
    "plot_histogram(qasm_simulator_result.get_counts())"
   ]
  },
  {
   "cell_type": "markdown",
   "metadata": {},
   "source": [
    "### Uwaga na temat pomiarów\n",
    "W Qiskit dostępne są dwie metody wprowadzania pomiaru w układzie.  \n",
    "Dotychczas używaliśmy `.measure()`, w którym trzeba najpierw zdefiniować bity kwantowe oraz klasyczne w układzie i przekazać dla każdego kubitu, w którym bicie klasycznym będzie trzymany wynik jego pomiaru.   \n",
    "\n",
    "Istnieje też skrócona wersja - metoda `.measure_all()`. Ta metoda samodzielnie \"tworzy\" bity klasyczne i automatycznie zapisuje pomiar każdego kubitu w klasycznym bicie o tym samym indeksie. Dodatkowo dodaje graficzne oddzielenie (tzw. *barrier*) przed częścią obwodu odpowiedzialną za pomiary.  \n",
    "\n",
    "W dwóch poniższych komórkach znajduje się kod, który w każdej komórce robi dokładnie to samo, ale w pierwszej korzystając z metody `.measure()`, a w drugiej przy pomocy `.measure_all()`. "
   ]
  },
  {
   "cell_type": "code",
   "execution_count": 11,
   "metadata": {},
   "outputs": [
    {
     "data": {
      "image/png": "[encoded data removed]",
      "text/plain": [
       "<Figure size 538.128x284.278 with 1 Axes>"
      ]
     },
     "execution_count": 11,
     "metadata": {},
     "output_type": "execute_result"
    }
   ],
   "source": [
    "qc = QuantumCircuit(2, 2)   # Jeśli chcemy używać measure(), \n",
    "                            # musimy zdefiniować na początku zarówno kubity\n",
    "                            # jak i bity klasyczne w układzie\n",
    "qc.h(0)\n",
    "qc.cx(0, 1)\n",
    "\n",
    "qc.barrier()                # Barrier - graficzne oddzielenie różnych fragmentów obwodu\n",
    "qc.measure([0,1], [0,1])    # W measure() jako argumenty musimy podać zarówno mierzone kubity,\n",
    "                            # jak i klasyczne bity na których zapisane zostaną wyniki pomiarów.\n",
    "    \n",
    "qc.draw(output=\"mpl\")"
   ]
  },
  {
   "cell_type": "code",
   "execution_count": 12,
   "metadata": {},
   "outputs": [
    {
     "data": {
      "image/png": "[encoded data removed]",
      "text/plain": [
       "<Figure size 580.387x284.278 with 1 Axes>"
      ]
     },
     "execution_count": 12,
     "metadata": {},
     "output_type": "execute_result"
    }
   ],
   "source": [
    "qc = QuantumCircuit(2)      # Jeśli chcemy używać measure_all(), \n",
    "                            # definiujemy tylko kubity w układzie.\n",
    "                            # Nie przejmujemy się na początku bitami klasycznymi.\n",
    "qc.h(0)\n",
    "qc.cx(0, 1)\n",
    "\n",
    "qc.measure_all()    # W measure_all() nie podajemy argumentów. Zmierzone zostaną\n",
    "                    # wszystkie kubity, a wyniki pomiarów zostaną zapisane automatycznie \n",
    "                    # na bitach klasycznych o tym samym indeksie, co indeks kubitu.\n",
    "\n",
    "qc.draw(output=\"mpl\")"
   ]
  }
 ],
 "metadata": {
  "kernelspec": {
   "display_name": "Python 3 (ipykernel)",
   "language": "python",
   "name": "python3"
  },
  "language_info": {
   "codemirror_mode": {
    "name": "ipython",
    "version": 3
   },
   "file_extension": ".py",
   "mimetype": "text/x-python",
   "name": "python",
   "nbconvert_exporter": "python",
   "pygments_lexer": "ipython3",
   "version": "3.9.2"
  }
 },
 "nbformat": 4,
 "nbformat_minor": 4
}
