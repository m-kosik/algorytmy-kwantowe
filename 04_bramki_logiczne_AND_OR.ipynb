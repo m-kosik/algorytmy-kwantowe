{
 "cells": [
  {
   "cell_type": "code",
   "execution_count": 1,
   "metadata": {},
   "outputs": [],
   "source": [
    "from qiskit import QuantumCircuit, Aer, execute\n",
    "from qiskit.visualization import plot_histogram, array_to_latex\n",
    "from qiskit.quantum_info import Operator\n",
    "import matplotlib.pyplot as plt"
   ]
  },
  {
   "cell_type": "markdown",
   "metadata": {},
   "source": [
    "### Bramki kwantowe a klasyczne\n",
    "\n",
    "W tym notatniku spróbujemy zrekonstruować działanie klasycznych bramek AND, OR, XOR oraz NOT a także przyjrzymy się pewnej bramce, która nie ma klasycznego odpowiednika. "
   ]
  },
  {
   "cell_type": "markdown",
   "metadata": {},
   "source": [
    "### AND\n",
    "Zaczniemy od bramki AND. Zwykle jej kwantowa wersja jest przedstawiana na trzech kubitach. Dwa z nich uznajemy za \"wejściowe\", a trzeci za \"wyjście\" (wynik działania AND).  \n",
    "\n",
    "Dwa pierwsze kubity ustawiamy w superpozycji wszystkich możliwych kombinacji $\\vert 0 \\rangle$ i $\\vert 1 \\rangle$, działając na nie bramkami Hadamarda. Celem jest uzyskanie odpowiedniej kombinacji liniowej na trzecim kubicie, tj. stanu:   \n",
    "$\\frac{1}{2}(\\vert 000 \\rangle + \\vert 010 \\rangle + \\vert 100 \\rangle + \\vert 111 \\rangle)$.  \n",
    "\n",
    "*Przypomnienie -* w notacji Qiskit bity najmniej znaczące są po prawej stronie (kubit 0 jest najbardziej po prawej), także spodziewamy się wyników: $000$, $010$, $001$ oraz $111$.\n"
   ]
  },
  {
   "cell_type": "code",
   "execution_count": null,
   "metadata": {},
   "outputs": [],
   "source": [
    "qc = QuantumCircuit(3)\n",
    "\n",
    "# Stworzenie superpozycji wszystkich kombinacji bitów na kubitach 0 oraz 1\n",
    "...\n",
    "\n",
    "#---- Dodać bramki tutaj\n",
    "...\n",
    "\n",
    "#----\n",
    "qc.measure_all()\n",
    "\n",
    "simulator = Aer.get_backend('qasm_simulator')\n",
    "result = execute(qc, backend=simulator).result()\n",
    "plot_histogram(result.get_counts(qc))"
   ]
  },
  {
   "cell_type": "markdown",
   "metadata": {},
   "source": [
    "### OR\n",
    "Cel: uzyskać stan $\\frac{1}{2}(\\vert 000 \\rangle + \\vert 011 \\rangle + \\vert 101 \\rangle + \\vert 111 \\rangle)$ (w notacji qiskit wyniki: $000$, $110$, $101$ oraz $111$)."
   ]
  },
  {
   "cell_type": "code",
   "execution_count": null,
   "metadata": {},
   "outputs": [],
   "source": [
    "qc = QuantumCircuit(3)\n",
    "\n",
    "# Stworzenie superpozycji wszystkich kombinacji bitów na kubitach 0 oraz 1\n",
    "...\n",
    "\n",
    "#---- Dodać bramki tutaj\n",
    "...\n",
    "\n",
    "#----\n",
    "qc.measure_all()\n",
    "\n",
    "simulator = Aer.get_backend('qasm_simulator')\n",
    "result = execute(qc, backend=simulator).result()\n",
    "plot_histogram(result.get_counts(qc))"
   ]
  },
  {
   "cell_type": "markdown",
   "metadata": {},
   "source": [
    "### XOR\n",
    "O kwantowym odpowiedniku bramki XOR można myśleć na dwa sposoby. Po pierwsze - tak jak powyżej, czyli dwa bity wejściowe i jeden wyjściowy. Ale często można się spotkać też z tym, że uznaje się bramkę CNOT za analogon klasycznego XOR, w tym sensie że na drugim bicie pojawia się wynik działania (`q_1 XOR q_2`).   \n"
   ]
  },
  {
   "cell_type": "markdown",
   "metadata": {},
   "source": [
    "**Pytanie.** Dlaczego podobne podejście nie jest możliwe w przypadku bramek AND czy OR (nie da się \"zapisać\" wyniku na drugim kubicie, a potrzebny jest do tego dodatkowy kubit?"
   ]
  },
  {
   "cell_type": "markdown",
   "metadata": {},
   "source": [
    "### NOT\n",
    "Za analogię klasycznej bramki NOT często uznaje się bramkę kwantową X, z racji że zamienia kubit w stanie $\\vert 0 \\rangle$ na $\\vert 1 \\rangle$ i odwrotnie.  "
   ]
  },
  {
   "cell_type": "markdown",
   "metadata": {},
   "source": [
    "### $\\sqrt{NOT}$ (bramka *square root of NOT*)\n",
    "\n",
    "**Zadanie.** Skonstruować obwód kwantowy, który po zadziałaniu na dowolny stan dwukrotnie da ten sam efekt, co zadziałanie bramką X (wykona klasyczną operację NOT). Można to zrobić na przykład przy pomocy kombinacji bramek $H$ oraz $S$. Wyświetlić macierzową reprezentację tego obwodu.   \n",
    "  \n",
    "Spróbować skonstruować inny taki obwód (*podpowiedź*: należy użyć tych samych bramek w innej kolejności). Czy macierz $\\sqrt{NOT}$ jest określona jednoznacznie?\n",
    "\n",
    "Co ciekawe - nie istnieje klasyczny odpowiednik takiej bramki. Nie ma klasycznej operacji, która po zadziałaniu dwukrotnie na bicie da efekt działania bramką NOT."
   ]
  },
  {
   "cell_type": "code",
   "execution_count": null,
   "metadata": {},
   "outputs": [],
   "source": [
    "def square_root_of_not(circuit):\n",
    "    \n",
    "    # tutaj należy uzupełnić odpowiednie bramki\n",
    "    \n",
    "    pass\n",
    "\n",
    "\n",
    "qc = QuantumCircuit(1)\n",
    "\n",
    "# działamy bramką dwukrotnie, aby sprawdzić efekt na wektorze początkowym \n",
    "square_root_of_not(qc)\n",
    "square_root_of_not(qc)\n",
    "\n",
    "qc.measure_all()\n",
    "\n",
    "simulator = Aer.get_backend('qasm_simulator')\n",
    "result = execute(qc, backend=simulator).result()\n",
    "plot_histogram(result.get_counts(qc))"
   ]
  },
  {
   "cell_type": "code",
   "execution_count": null,
   "metadata": {},
   "outputs": [],
   "source": [
    "# Teraz wyświetlmy reprezentację macierzową bramki sqrt(NOT)\n",
    "\n",
    "qc = QuantumCircuit(1)\n",
    "\n",
    "square_root_of_not(qc)\n",
    "\n",
    "array_to_latex(Operator(qc))\n"
   ]
  },
  {
   "cell_type": "markdown",
   "metadata": {},
   "source": [
    "### Odwracanie działania bramek\n",
    "\n",
    "Ważną cechą bramek kwantowych jest ich odwracalność. Dopóki nie wykonamy pomiaru układu, możemy odwrócić każdą operację, którą na nim wykonaliśmy.  \n",
    "\n",
    "**Zadanie.** Odwrócić układ, tj. uzyskać z powrotem stan $\\vert 000 \\rangle$, nie usuwając żadnej z obecnych już bramek (nie wolno zmieniać nic w obwodzie, co stoi przed \"barrier\")."
   ]
  },
  {
   "cell_type": "code",
   "execution_count": 6,
   "metadata": {},
   "outputs": [
    {
     "data": {
      "image/png": "[encoded data removed]",
      "text/plain": [
       "<Figure size 538.33x284.278 with 1 Axes>"
      ]
     },
     "execution_count": 6,
     "metadata": {},
     "output_type": "execute_result"
    }
   ],
   "source": [
    "circuit = QuantumCircuit(3)\n",
    "circuit.h(0)\n",
    "circuit.z(2)\n",
    "circuit.cx(0,1)\n",
    "circuit.cx(0,2)\n",
    "circuit.s(0)\n",
    "circuit.barrier()\n",
    "\n",
    "#-------\n",
    "# tutaj należy umieścić bramki \"odwracające\" działanie pierwszej części obwodu\n",
    "\n",
    "#------\n",
    "\n",
    "circuit.draw(output=\"mpl\")"
   ]
  },
  {
   "cell_type": "code",
   "execution_count": null,
   "metadata": {},
   "outputs": [],
   "source": [
    "# Po poprawnym odwróceniu układu powinniśmy mierzyć jedynie wartość 000.\n",
    "\n",
    "circuit.measure_all()\n",
    "\n",
    "simulator = Aer.get_backend('qasm_simulator')\n",
    "result = execute(circuit, backend=simulator).result()\n",
    "plot_histogram(result.get_counts(circuit))"
   ]
  },
  {
   "cell_type": "code",
   "execution_count": null,
   "metadata": {},
   "outputs": [],
   "source": []
  },
  {
   "cell_type": "code",
   "execution_count": null,
   "metadata": {},
   "outputs": [],
   "source": []
  }
 ],
 "metadata": {
  "kernelspec": {
   "display_name": "Python 3 (ipykernel)",
   "language": "python",
   "name": "python3"
  },
  "language_info": {
   "codemirror_mode": {
    "name": "ipython",
    "version": 3
   },
   "file_extension": ".py",
   "mimetype": "text/x-python",
   "name": "python",
   "nbconvert_exporter": "python",
   "pygments_lexer": "ipython3",
   "version": "3.9.2"
  }
 },
 "nbformat": 4,
 "nbformat_minor": 4
}
