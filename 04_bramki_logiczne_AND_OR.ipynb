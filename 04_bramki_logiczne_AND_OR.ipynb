{
 "cells": [
  {
   "cell_type": "code",
   "execution_count": 3,
   "metadata": {},
   "outputs": [],
   "source": [
    "from qiskit import QuantumRegister, ClassicalRegister, QuantumCircuit, Aer, execute\n",
    "from qiskit.quantum_info import Statevector\n",
    "from qiskit.visualization import plot_bloch_vector, plot_bloch_multivector\n",
    "import matplotlib.pyplot as plt"
   ]
  },
  {
   "cell_type": "markdown",
   "metadata": {},
   "source": [
    "Stworzymy kwantowe ekwiwalenty bramek klasycznych AND i OR.  \n",
    "Potrzebne do tego trzy kubity - dwa \"wejściowe\" i trzeci \"wyjściowy\".  \n",
    "Dwa pierwsze kubity ustawiamy w superpozycji wszystkich możliwych kombinacji (Hadamard na dwóch pierwszych kubitach). Cel - uzyskać odpowiednią kombinację liniową na trzecim kubicie.  "
   ]
  },
  {
   "cell_type": "markdown",
   "metadata": {},
   "source": [
    "### AND\n",
    "Cel: uzyskać stań $\\frac{1}{2}(\\ket{000} + \\ket{010} + \\ket{100} + \\ket{111})$\n"
   ]
  },
  {
   "cell_type": "code",
   "execution_count": null,
   "metadata": {},
   "outputs": [],
   "source": []
  },
  {
   "cell_type": "markdown",
   "metadata": {},
   "source": [
    "### OR\n",
    "Cel: uzyskać stań $\\frac{1}{2}(\\ket{000} + \\ket{011} + \\ket{101} + \\ket{111})$"
   ]
  },
  {
   "cell_type": "code",
   "execution_count": null,
   "metadata": {},
   "outputs": [],
   "source": []
  },
  {
   "cell_type": "markdown",
   "metadata": {},
   "source": [
    "### Odwracanie działania bramek\n",
    "\n",
    "Ważną cechą bramek kwantowych jest ich odwracalność. Dopóki nie wykonamy pomiaru układu, możemy odwrócić każdą operację, którą na nim wykonaliśmy.  \n",
    "\n",
    "**Ćwiczenie**\n",
    "Odwrócić układ, tj. uzyskać z powrotem stan $\\ket{000}$."
   ]
  },
  {
   "cell_type": "code",
   "execution_count": 13,
   "metadata": {},
   "outputs": [
    {
     "data": {
      "image/png": "[encoded data removed]",
      "text/plain": [
       "<Figure size 454.719x284.278 with 1 Axes>"
      ]
     },
     "execution_count": 13,
     "metadata": {},
     "output_type": "execute_result"
    }
   ],
   "source": [
    "circuit = QuantumCircuit(3)\n",
    "circuit.h(0)\n",
    "circuit.z(2)\n",
    "circuit.cx(0,1)  # multi CNOT (two control qubits)\n",
    "circuit.cx(0,2)\n",
    "circuit.s(0)\n",
    "circuit.draw(output=\"mpl\")\n"
   ]
  },
  {
   "cell_type": "code",
   "execution_count": 12,
   "metadata": {},
   "outputs": [
    {
     "data": {
      "image/png": "[encoded data removed]",
      "text/plain": [
       "<Figure size 454.719x284.278 with 1 Axes>"
      ]
     },
     "execution_count": 12,
     "metadata": {},
     "output_type": "execute_result"
    }
   ],
   "source": [
    "# circuit.inverse().draw(output=\"mpl\")"
   ]
  },
  {
   "cell_type": "code",
   "execution_count": null,
   "metadata": {},
   "outputs": [],
   "source": []
  },
  {
   "cell_type": "markdown",
   "metadata": {},
   "source": []
  },
  {
   "cell_type": "markdown",
   "metadata": {},
   "source": []
  }
 ],
 "metadata": {
  "kernelspec": {
   "display_name": "new-quantum",
   "language": "python",
   "name": "python3"
  },
  "language_info": {
   "codemirror_mode": {
    "name": "ipython",
    "version": 3
   },
   "file_extension": ".py",
   "mimetype": "text/x-python",
   "name": "python",
   "nbconvert_exporter": "python",
   "pygments_lexer": "ipython3",
   "version": "3.11.3"
  }
 },
 "nbformat": 4,
 "nbformat_minor": 2
}
