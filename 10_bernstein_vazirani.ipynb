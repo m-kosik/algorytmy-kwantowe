{
 "cells": [
  {
   "cell_type": "code",
   "execution_count": null,
   "id": "b980e4f5-98b0-4c92-8151-482939feea00",
   "metadata": {},
   "outputs": [],
   "source": [
    "import numpy as np\n",
    "from qiskit import Aer\n",
    "from qiskit import QuantumCircuit, transpile\n",
    "from qiskit.visualization import plot_histogram\n",
    "from qiskit.quantum_info import Statevector"
   ]
  },
  {
   "cell_type": "markdown",
   "id": "1c3c82cf-9b71-4718-bdb0-24469752aec9",
   "metadata": {},
   "source": [
    "### Algorytm Bernsteina-Vazirani'ego\n",
    "\n",
    "Algorytm Bernsteina-Vazirani'ego jest to kolejny przykład algorytmu, który daje kwantową przewagę nad klasycznymi odpowiednikami. Problem Bernsteina-Vaziraniego jest podobny do problemu Deutscha-Jozsy. Po pierwsze, także dotyczy zbadania działania pewnej \"wyroczni\" (ang. *oracle*). Po drugie, podobnie jak w problemie Deutscha-Jozsy zakładamy, że wyrocznia przyjmuje na wejściu binarne ciągi dowolnej skończonej dlugości ($n$) i zwraca jako wynik jedną liczbę.  \n",
    "  \n",
    "Cały czas będziemy korzystać z wyroczni kwantowych. Kwantowy odpowiednik klasycznej funkcji $f(\\vec{x})$ będziemy oznaczać jako $U_f$, a jego działanie zdefiniowane jest następująco:    \n",
    "$U_f: \\vert \\vec{x} y \\rangle \\longrightarrow \\vert \\vec{x} y \\otimes f(\\vec{x}) \\rangle$  \n",
    "    \n",
    "**Problem Bernsteina-Vaziraniego**   \n",
    "Różnica w stosunku do problemu Deutscha-Jozsy polega na tym jaką wyrocznię będziemy badać. W problemie Bernsteina-Vaziraniego będziemy rozpatrywać wyrocznię, która implementuje funkcję $f(x) = (s\\cdot x) \\,\\text{mod}\\,2$. Ciąg $s$ jest niejako \"zakodowany\" w wyroczni, a naszym zadaniem będzie znaleźć wartość $s$ wysyłając odpowiednie zapytania do wyroczni i analizując wynik jaki zwraca.  \n",
    "   \n",
    "**Pytanie.** Zastanówmy się najpierw nad problemem klasycznym. Jak klasycznie można znaleźć wartość $s$? Ile co najmniej zapytań jest potrzebne, żeby móc z pewnością określić ciąg $s$ \"zakodowany\" w wyroczni? Jakie to na przykład mogą być zapytania?  \n",
    "\n",
    "----\n",
    "\n",
    "### Implementacja obwodu kwantowego - algorytm Bernsteina-Vaziraniego\n",
    "Najpierw przygotujemy wyrocznię - funkcję $f(x) = (s\\cdot x) \\,\\text{mod}\\,2$.  "
   ]
  },
  {
   "cell_type": "code",
   "execution_count": null,
   "id": "16f16715-b3bd-4c9b-b5c8-203bd1a9ebab",
   "metadata": {},
   "outputs": [],
   "source": [
    "## Po pierwsze - trzeba zaimplementować funkcję f(x) = s*x mod 2\n",
    "\n",
    "n = 3\n",
    "s = \"011\"\n",
    "\n",
    "def oracle(n: int, s: str) -> QuantumCircuit:\n",
    "    \n",
    "    ### uzupełnić funkcję f(x) = s*x mod 2\n",
    "    \n",
    "    pass"
   ]
  },
  {
   "cell_type": "code",
   "execution_count": null,
   "id": "53142e23-7318-4085-87e9-b5913470aa36",
   "metadata": {},
   "outputs": [],
   "source": [
    "# inicjalizacja \"wyroczni\" + wyświetlenie jak wygląda\n",
    "bv_oracle = oracle(n, s)\n",
    "bv_oracle.draw(output=\"mpl\")"
   ]
  },
  {
   "cell_type": "markdown",
   "id": "77123edc-744b-4ea4-a48b-9c19706888f5",
   "metadata": {},
   "source": [
    "Teraz pora na implementację obwodu, który będzie sprawdzał działanie wyroczni (jego celem będzie wykrycie wartości $s$, która jest niejako ukryta w funkcji `oracle`).  "
   ]
  },
  {
   "cell_type": "code",
   "execution_count": null,
   "id": "7a086541-5029-48ba-8cbe-9c0b4ff3b901",
   "metadata": {},
   "outputs": [],
   "source": [
    "# Inicjalizacja obwodu Bernsteina-Vaziraniego\n",
    "\n",
    "bv_circuit = ...\n",
    "\n",
    "# Przygotowanie wejścia - superpozycji wszystkich stanów na n pierwszych kubitach \n",
    "# (stan |+> na każdym z pierwszych n kubitów)\n",
    "...\n",
    "\n",
    "# Ustalenie ostatniego kubita w stanie |->\n",
    "...\n",
    "\n",
    "# Podejrzenie stanu początkowego\n",
    "st0 = Statevector.from_instruction(bv_circuit)\n",
    "print(st0)\n",
    "\n",
    "bv_circuit.draw(output=\"mpl\")"
   ]
  },
  {
   "cell_type": "code",
   "execution_count": null,
   "id": "1b3cc49e-eec6-41ac-b0b5-8e8c39e02572",
   "metadata": {},
   "outputs": [],
   "source": [
    "# Wstawienie do układu wyroczni (oracle)\n",
    "\n",
    "\n",
    "\n",
    "# Podejrzenie stanu za wyrocznią\n",
    "st0 = Statevector.from_instruction(bv_circuit)\n",
    "print(st0)\n",
    "\n",
    "bv_circuit.draw(output=\"mpl\")"
   ]
  },
  {
   "cell_type": "code",
   "execution_count": null,
   "id": "be771827-a69d-4c3f-ae83-185a37296899",
   "metadata": {},
   "outputs": [],
   "source": [
    "# \"Anulowanie\" superpozycji stanów\n",
    "\n",
    "\n",
    "# Pomiar n pierwszych kubitów\n",
    "\n",
    "    \n",
    "# Wyświetlenie gotowego obwodu Bernsteina-Vaziraniego\n",
    "bv_circuit.draw(output=\"mpl\")"
   ]
  },
  {
   "cell_type": "code",
   "execution_count": null,
   "id": "846e7551-b62f-4b71-8f14-dc87dcc47545",
   "metadata": {},
   "outputs": [],
   "source": [
    "# Wykonanie pomiarów\n",
    "aer_sim = Aer.get_backend('aer_simulator')\n",
    "results = aer_sim.run(bv_circuit).result()\n",
    "answer = results.get_counts()\n",
    "\n",
    "plot_histogram(answer)"
   ]
  },
  {
   "cell_type": "code",
   "execution_count": null,
   "id": "4a78d1a9-0a40-4549-8d23-1f4125018742",
   "metadata": {},
   "outputs": [],
   "source": []
  }
 ],
 "metadata": {
  "kernelspec": {
   "display_name": "Python 3 (ipykernel)",
   "language": "python",
   "name": "python3"
  },
  "language_info": {
   "codemirror_mode": {
    "name": "ipython",
    "version": 3
   },
   "file_extension": ".py",
   "mimetype": "text/x-python",
   "name": "python",
   "nbconvert_exporter": "python",
   "pygments_lexer": "ipython3",
   "version": "3.9.2"
  }
 },
 "nbformat": 4,
 "nbformat_minor": 5
}
