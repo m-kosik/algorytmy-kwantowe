{
 "cells": [
  {
   "cell_type": "code",
   "execution_count": null,
   "id": "98aa4fd0-0f40-4a96-9fe8-ea2837d3a5b3",
   "metadata": {},
   "outputs": [],
   "source": [
    "import numpy as np\n",
    "from numpy import pi\n",
    "from oracles import simon_oracle\n",
    "from qiskit import QuantumCircuit, Aer\n",
    "from qiskit.quantum_info import Statevector\n",
    "from qiskit.visualization import plot_histogram"
   ]
  },
  {
   "cell_type": "markdown",
   "id": "16b43491-eedb-48ec-b560-71d3766bf271",
   "metadata": {},
   "source": [
    "Algorytm Simona to pierwszy algorytm kwantowy, który pozwolił na uzyskanie eksponencjalnego przyspieszenia rozwiązania pewnego problemu matematycznego, a mianowicie problemu Simona. Nie istnieje klasyczne rozwiązanie tego zagadnienia o złożoności obliczeniowej mniejszej od wykładniczej. Natomiast złożoność algorytmu kwantowego jest liniowa.  \n",
    "\n",
    "### Problem Simona\n",
    "Dana jest czarna skrzynka (*black box*) implementująca funkcję $f:\\{0,1\\}^n \\rightarrow \\{0,1\\}^n$. O funkcji $f$ wiemy, że jest 1-na-1 lub 2-na-1.\n",
    "\n",
    "**Zadanie**. Podać różne przykłady funkcji 1-na-1 oraz 2-na-1.\n",
    "- czy $g: \\mathbb{R} \\rightarrow\\mathbb{R}, g(x) = x$ jest 1-na-1 lub 2-na-1?\n",
    "- czy $h: \\mathbb{R} \\rightarrow\\mathbb{R}, h(x) = x^2$ jest 1-na-1 lub 2-na-1 ?\n",
    "\n",
    "Funkcja $f$ w problemie Simona jest określona przez ukryty ciąg $s \\in \\{0,1\\}^n $ taki że:  \n",
    "$f(x) = f(y) \\iff x \\oplus y=s$  \n",
    "\n",
    "**Zadanie.** Podać przykład funkcji $f:\\{0,1\\}^3 \\rightarrow \\mathbb{Z}$, która spełnia warunek $f(x + 101) = f(x)$.  \n",
    "**Zadanie.** Podać przykład funkcji $f:\\{0,1\\}^3 \\rightarrow \\{0,1\\}^3$, która spełnia warunek $f(x + 101) = f(x)$.   \n",
    "  \n",
    "**Problem Simona.** Jak efektywnie określić czy funkcja $f$ jest 1-na-1,  czy jest 2-na-1? Jak efektywnie znaleźć ukryty ciąg $s$?   \n",
    "\n",
    "\n",
    "**Pytanie.** Jak klasycznie podejść do rozwiązania tego problemu? Ile zapytań do czarnej skrzynki (ile wywołań funkcji $f$) potrzeba w najlepszym / najgorszym przypadku? Jaka jest złożoność obliczeniowa?  \n"
   ]
  },
  {
   "cell_type": "markdown",
   "id": "2e57a420-8cf1-4e82-b4a1-c90361ba9bfd",
   "metadata": {},
   "source": [
    "### Problem Simona - implementacja kwantowej wyroczni\n",
    "\n",
    "**Zadanie:** Zaimplementować funkcję `simon_oracle`, która będzie zwracać jako wynik działania obwód kwantowy, wykonujący operację: \n",
    "$U_f: \\vert x \\rangle \\vert 0...0 \\rangle \\rightarrow \\vert x \\rangle \\vert f(x) \\rangle$,\n",
    "gdzie $f(x)$ jest funkcją opisaną powyżej, tj. spełnia warunek $f(x) = f(y) \\iff x \\oplus y=s$."
   ]
  },
  {
   "cell_type": "code",
   "execution_count": null,
   "id": "7ac98f16-edde-4f14-9e6f-b7d0d7b00af3",
   "metadata": {},
   "outputs": [],
   "source": [
    "# Sprawdzenie działania simons_oracle\n",
    "s = '101'\n",
    "n = len(s)\n",
    "circuit = QuantumCircuit(2*n)\n",
    "\n",
    "# Ustalenie argumentów wejściowych\n",
    "circuit.x(0)\n",
    "circuit.x(2)\n",
    "\n",
    "# Sprawdzenie stanu wejściowego\n",
    "statevector_1 = Statevector.from_instruction(circuit)\n",
    "print(statevector_1.measure()[0][::-1])\n",
    "\n",
    "# Dodanie funkcji (Simon's oracle)\n",
    "# circuit.barrier()\n",
    "circuit = circuit.compose(simon_oracle(s))\n",
    "\n",
    "# Sprawdzenie stanu wyjściowego\n",
    "statevector_2 = Statevector.from_instruction(circuit)\n",
    "print(statevector_2.measure()[0][::-1])\n",
    "# circuit.draw(output=\"mpl\")"
   ]
  },
  {
   "cell_type": "markdown",
   "id": "13d56fb9-5c16-4a1b-8330-3ca14648e956",
   "metadata": {},
   "source": [
    "### Algorytm Simona - kwantowe rozwiązanie problemu Simona\n",
    "\n"
   ]
  },
  {
   "cell_type": "code",
   "execution_count": null,
   "id": "57b49288-d54d-4f13-96b8-c2d0ca3a5656",
   "metadata": {},
   "outputs": [],
   "source": [
    "simon_circuit = QuantumCircuit(2*n, n)\n",
    "\n",
    "# Przygotowanie obwodu\n",
    "\n",
    "# Aplikacja funkcji Simona\n",
    "\n",
    "# Transformacje \"za wyrocznią\"\n",
    "\n",
    "# Wykonanie pomiaru na odpowiednich kubitach\n",
    "\n",
    "simon_circuit.draw(output=\"mpl\")"
   ]
  },
  {
   "cell_type": "markdown",
   "id": "c51f48e3-4cdd-4773-818d-fe3ba2f16b0a",
   "metadata": {},
   "source": [
    "### Wykonanie pomiarów"
   ]
  },
  {
   "cell_type": "code",
   "execution_count": null,
   "id": "74384581-8c5a-44e5-a405-f34b010529fc",
   "metadata": {},
   "outputs": [],
   "source": [
    "simulator = Aer.get_backend('aer_simulator')\n",
    "result = simulator.run(simon_circuit, shots=2048).result()\n",
    "counts = result.get_counts()\n",
    "plot_histogram(counts)"
   ]
  },
  {
   "cell_type": "markdown",
   "id": "04734cd9-631e-4a4e-aeac-45e709eb0d1a",
   "metadata": {},
   "source": [
    "### Analiza klasyczna - odszyfrowanie wyniku\n",
    "\n",
    "Aby znaleźć ukryty ciąg $s$, trzeba skorzystać z faktu, że dla każdego z mierzonych wyników  $s\\cdot z  = 0 \\pmod{2}$.\n",
    "To znaczy, że dostajemy układ równań:  \n",
    "$s \\cdot 101 = 0$  \n",
    "$s \\cdot 111 = 0$  \n",
    "$s \\cdot 000 = 0$  \n",
    "$s \\cdot 010 = 0$  \n",
    "z którego musimy wyznaczyć $s$. Można go rozwiązać na przykład metodą eliminacji Gaussa.  \n",
    "   \n",
    "Wspomniany wyżej fakt możemy też wykorzystać do weryfikacji czy nasza implementacja algorytmu działa poprawnie. Z racji, że znamy już ukryty ciąg $s$, możemy sprawdzić czy rzeczywiście dla każdego z mierzonych wyników zachodzi $s\\cdot z  = 0 \\pmod{2}$.  "
   ]
  },
  {
   "cell_type": "code",
   "execution_count": null,
   "id": "898fcfc2-5f41-4dd8-8d38-57562ebb3797",
   "metadata": {},
   "outputs": [],
   "source": [
    "# Sprawdzenie czy mierzymy poprawne stany (wszystkie wyniki powinny być równe zero).\n",
    "\n",
    "def dot_product(x, y):\n",
    "    result = 0\n",
    "    for i in range(len(x)):\n",
    "        result += int(x[i]) * int(y[i])\n",
    "    return (result % 2)\n",
    "\n",
    "for z in counts:\n",
    "    print(f'({s})*({z}) = {dot_product(s,z)} (mod 2)')"
   ]
  },
  {
   "cell_type": "code",
   "execution_count": null,
   "id": "fdd62b81-f8a7-4298-bf03-97372b001226",
   "metadata": {},
   "outputs": [],
   "source": []
  },
  {
   "cell_type": "code",
   "execution_count": null,
   "id": "a8ee4a9a-97a6-42fa-ab26-efd269999e5f",
   "metadata": {},
   "outputs": [],
   "source": []
  }
 ],
 "metadata": {
  "kernelspec": {
   "display_name": "Python 3 (ipykernel)",
   "language": "python",
   "name": "python3"
  },
  "language_info": {
   "codemirror_mode": {
    "name": "ipython",
    "version": 3
   },
   "file_extension": ".py",
   "mimetype": "text/x-python",
   "name": "python",
   "nbconvert_exporter": "python",
   "pygments_lexer": "ipython3",
   "version": "3.9.2"
  }
 },
 "nbformat": 4,
 "nbformat_minor": 5
}
