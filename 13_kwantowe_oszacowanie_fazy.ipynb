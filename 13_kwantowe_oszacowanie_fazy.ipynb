{
 "cells": [
  {
   "cell_type": "code",
   "execution_count": null,
   "id": "3b7579e1-3051-4229-96cd-cc01e5fdd044",
   "metadata": {},
   "outputs": [],
   "source": [
    "import numpy as np\n",
    "from numpy import pi\n",
    "from oracles import simon_oracle\n",
    "from qiskit import QuantumCircuit, Aer\n",
    "from qiskit.quantum_info import Statevector\n",
    "from qiskit.visualization import plot_histogram\n",
    "from qiskit.quantum_info import Statevector\n",
    "from qiskit.visualization import plot_histogram, plot_bloch_multivector"
   ]
  },
  {
   "cell_type": "markdown",
   "id": "35370c07-79ea-4909-8975-f03a9e41471a",
   "metadata": {},
   "source": [
    "Algorytm oszacowania fazy kwantowej pozwala na oszacowania fazy odpowiadającej wartości własnej danego operatora unitarnego. Estymacja fazy jest często wykorzystywana jako podprogram w innych algorytmach kwantowych, takich jak algorytm Shora, algorytm kwantowego zliczania, czy algorytmy pozwalające na rozwiązywanie układów równań liniowych.  \n",
    "\n",
    "Potrzebna będzie funkcja licząca odwrotną transformatę Fouriera (z notatnika nr 11):"
   ]
  },
  {
   "cell_type": "code",
   "execution_count": null,
   "id": "b76fb2a0-62cc-4afc-8019-e8b7525a059e",
   "metadata": {},
   "outputs": [],
   "source": [
    "def qft(circuit, n):\n",
    "    \n",
    "    if n == 0:\n",
    "        return circuit\n",
    "    \n",
    "    circuit.h(n-1)\n",
    "    \n",
    "    for qubit in range(n-1):\n",
    "        circuit.cp(pi/2**(n-qubit-1), qubit, n-1)\n",
    "    \n",
    "    qft(circuit, n-1)\n",
    "\n",
    "    \n",
    "def get_qft_circuit(n):\n",
    "    \n",
    "    qc = QuantumCircuit(n)\n",
    "    qft(qc, n)\n",
    "    return qc\n",
    "\n",
    "\n",
    "def get_inverse_qft_circuit(n):\n",
    "    \n",
    "    qft_circ = get_qft_circuit(n)\n",
    "    inverse_qft_circ = qft_circ.inverse()\n",
    "\n",
    "    return inverse_qft_circ.decompose()"
   ]
  },
  {
   "cell_type": "markdown",
   "id": "6d783bf9-29b5-4543-ae84-676a47dd056e",
   "metadata": {},
   "source": [
    "### Implementacja kwantowego oszacowania fazy"
   ]
  },
  {
   "cell_type": "code",
   "execution_count": null,
   "id": "33c07ff6-1e4b-4841-aac7-8ebc0dffd660",
   "metadata": {},
   "outputs": [],
   "source": []
  },
  {
   "cell_type": "code",
   "execution_count": null,
   "id": "d26e86db-671e-4975-8eb3-49fdc8751532",
   "metadata": {},
   "outputs": [],
   "source": []
  },
  {
   "cell_type": "code",
   "execution_count": null,
   "id": "10b290ae-d0a5-4de1-ad15-3d759f1bf8e2",
   "metadata": {},
   "outputs": [],
   "source": []
  },
  {
   "cell_type": "code",
   "execution_count": null,
   "id": "e985f1dc-76b3-4f5d-864a-7a850031f594",
   "metadata": {},
   "outputs": [],
   "source": []
  },
  {
   "cell_type": "code",
   "execution_count": null,
   "id": "57950209-d956-4b5a-9420-7e2b92a92e77",
   "metadata": {},
   "outputs": [],
   "source": []
  },
  {
   "cell_type": "code",
   "execution_count": null,
   "id": "a62aa880-d0c5-47cf-8c42-80bb209caea7",
   "metadata": {},
   "outputs": [],
   "source": []
  }
 ],
 "metadata": {
  "kernelspec": {
   "display_name": "Python 3 (ipykernel)",
   "language": "python",
   "name": "python3"
  },
  "language_info": {
   "codemirror_mode": {
    "name": "ipython",
    "version": 3
   },
   "file_extension": ".py",
   "mimetype": "text/x-python",
   "name": "python",
   "nbconvert_exporter": "python",
   "pygments_lexer": "ipython3",
   "version": "3.9.2"
  }
 },
 "nbformat": 4,
 "nbformat_minor": 5
}
