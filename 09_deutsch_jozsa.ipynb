{
 "cells": [
  {
   "cell_type": "code",
   "execution_count": null,
   "id": "efecf2c2-cd1a-4347-bf05-7e82c9ec2c9e",
   "metadata": {},
   "outputs": [],
   "source": [
    "import numpy as np\n",
    "from qiskit import Aer\n",
    "from qiskit import QuantumCircuit, transpile\n",
    "from qiskit.visualization import plot_histogram\n",
    "from qiskit.quantum_info import Statevector"
   ]
  },
  {
   "cell_type": "markdown",
   "id": "23ecc5fc-e9a7-4842-bf93-5c1fbe9c3c5e",
   "metadata": {},
   "source": [
    "### Problem Deutscha-Jozsy\n",
    "\n",
    "**Cel**: określenie czy dana funkcja (wyrocznia) jest stała czy zbilansowana.  \n",
    "  \n",
    "Będziemy rozpatrywać funkcje przeprowadzające ciągi binarne w pojedynczą wartość skalarną, tj. funkcje działające z $\\mathbb{F}_2^n \\rightarrow \\mathbb{F}_2$. Więcej na temat implementacji funkcji można znaleźć w notatniku 08.     \n",
    "\n",
    "Zaczniemy od przygotowania funkcji stałej i zbilansowanej, które napisaliśmy na poprzednich zajęciach:  "
   ]
  },
  {
   "cell_type": "code",
   "execution_count": null,
   "id": "9d6b62ad-9688-4305-98ad-3d13fbc9a022",
   "metadata": {},
   "outputs": [],
   "source": [
    "# Ustalenie liczby kubitów wejściowych (ile argumentów przyjmuje funkcja f)\n",
    "n = 6"
   ]
  },
  {
   "cell_type": "code",
   "execution_count": null,
   "id": "5e29fba9-4b67-4b1e-bd58-3ff38b6e37b5",
   "metadata": {},
   "outputs": [],
   "source": [
    "def constant_function(n):\n",
    "    \n",
    "    output = np.random.randint(2)\n",
    "    \n",
    "    qc = QuantumCircuit(n+1)\n",
    "    if output == 1:\n",
    "        qc.x(n)\n",
    "    \n",
    "    return qc\n",
    "\n",
    "constant_oracle = constant_function(n)\n",
    "constant_oracle.draw(output=\"mpl\")"
   ]
  },
  {
   "cell_type": "code",
   "execution_count": null,
   "id": "b46f348a-8483-4182-91a1-01907279d171",
   "metadata": {},
   "outputs": [],
   "source": [
    "def balanced_function(n):\n",
    "    \n",
    "    qc = QuantumCircuit(n+1)\n",
    "    \n",
    "    for i in range(n):\n",
    "        qc.cx(i,n)\n",
    "    \n",
    "    return qc\n",
    "\n",
    "balanced_oracle = balanced_function(n)\n",
    "balanced_oracle.draw(output=\"mpl\")"
   ]
  },
  {
   "cell_type": "markdown",
   "id": "728dd6e7-eb31-411f-a517-8540e5e7ea26",
   "metadata": {},
   "source": [
    "### Implementacja całego obwodu algorytmu Deutscha-Jozsy"
   ]
  },
  {
   "cell_type": "code",
   "execution_count": null,
   "id": "db3d5a9f-ad56-4f55-b9fb-d6ac737d1d23",
   "metadata": {},
   "outputs": [],
   "source": [
    "dj_circuit = QuantumCircuit(n+1, n)\n",
    "\n",
    "# Przygotowanie wejścia - superpozycji wszystkich stanów na n pierwszych kubitach \n",
    "# (stan |+> na każdym z pierwszych n kubitów)\n",
    "...\n",
    "\n",
    "# Ustalenie ostatniego kubita w stanie |->\n",
    "...\n",
    "\n",
    "# Podejrzenie stanu początkowego\n",
    "st0 = Statevector.from_instruction(dj_circuit)\n",
    "print(st0)\n",
    "\n",
    "dj_circuit.draw(output=\"mpl\")\n"
   ]
  },
  {
   "cell_type": "code",
   "execution_count": null,
   "id": "50ec15d3-db6e-4321-95ae-e43a292d38ae",
   "metadata": {},
   "outputs": [],
   "source": [
    "# Umieszczenie w układzie wyroczni, którą będziemy \"próbkować\"\n",
    "# można użyć metody \".compose()\"\n",
    "\n",
    "...\n",
    "dj_circuit.barrier()\n",
    "\n",
    "# Podejrzenie stanu za wyrocznią\n",
    "st0 = Statevector.from_instruction(dj_circuit)\n",
    "print(st0)\n",
    "\n",
    "dj_circuit.draw(output=\"mpl\")"
   ]
  },
  {
   "cell_type": "code",
   "execution_count": null,
   "id": "16b2979a-14d7-4c37-ace6-29be5e952b9c",
   "metadata": {},
   "outputs": [],
   "source": [
    "# \"Anulowanie\" superpozycji stanów\n",
    "\n",
    "...\n",
    "\n",
    "\n",
    "# Podejrzenie stanu układu\n",
    "st0 = Statevector.from_instruction(dj_circuit)\n",
    "print(f\"state: {np.array2string(st0.data, precision=2, floatmode='fixed', suppress_small=True)}\")\n",
    "\n",
    "# Pomiar n pierwszych kubitów\n",
    "...\n",
    "\n",
    "# Display circuit\n",
    "dj_circuit.draw(output=\"mpl\")"
   ]
  },
  {
   "cell_type": "markdown",
   "id": "40abcc78-c5d7-4f71-8bb2-eb2d2e80b811",
   "metadata": {},
   "source": [
    "Teraz sprawdźmy pomiary wykonane na kubitach po całym przejściu obwodu.   \n",
    "\n",
    "Spodziewamy się, że jeśli wyrocznia była stała to powinniśmy mierzyć stan  $\\vert 00 .... 000 \\rangle$ (wszystkie kubity w stanie $\\vert 0 \\rangle$.  \n",
    "\n",
    "Jeśli funkcja była zbilansowana, to powinniśmy dostać inny wynik pomiarów (prawdopodobieństwo zmierzenia stanu $\\vert 00 .... 000 \\rangle$ wynosi 0)."
   ]
  },
  {
   "cell_type": "code",
   "execution_count": null,
   "id": "002e5c05-e597-435c-b3e4-48eaae653459",
   "metadata": {},
   "outputs": [],
   "source": [
    "# Wykonanie pomiarów\n",
    "aer_sim = Aer.get_backend('aer_simulator')\n",
    "results = aer_sim.run(dj_circuit).result()\n",
    "answer = results.get_counts()\n",
    "\n",
    "plot_histogram(answer)"
   ]
  },
  {
   "cell_type": "code",
   "execution_count": null,
   "id": "00bae6ba-8be5-47e0-ad27-16303eddc591",
   "metadata": {},
   "outputs": [],
   "source": []
  }
 ],
 "metadata": {
  "kernelspec": {
   "display_name": "Python 3 (ipykernel)",
   "language": "python",
   "name": "python3"
  },
  "language_info": {
   "codemirror_mode": {
    "name": "ipython",
    "version": 3
   },
   "file_extension": ".py",
   "mimetype": "text/x-python",
   "name": "python",
   "nbconvert_exporter": "python",
   "pygments_lexer": "ipython3",
   "version": "3.9.2"
  }
 },
 "nbformat": 4,
 "nbformat_minor": 5
}
