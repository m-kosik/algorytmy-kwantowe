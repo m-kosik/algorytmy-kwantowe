{
 "cells": [
  {
   "cell_type": "code",
   "execution_count": 1,
   "id": "418f79c6-ec2b-4296-b891-f8334ab28f23",
   "metadata": {},
   "outputs": [],
   "source": [
    "from qiskit import QuantumCircuit, Aer, execute\n",
    "from qiskit.visualization import  plot_histogram"
   ]
  },
  {
   "cell_type": "markdown",
   "id": "259d1069-2748-498c-8e1e-720ad2fcf011",
   "metadata": {},
   "source": [
    "### Kodowanie supergęste\n",
    "\n",
    "Supergęste kodowanie umożliwia przekazanie dwóch bitów informacji przy pomocy jednego kubita. Podobnie jak teleportacja kwantowa, kodowanie supergęste jest możliwe dzięki wykorzystaniu zjawiska splątania kwantowego.   \n",
    "\n",
    "**Pytanie**: Jakie mogą być korzyści z zastosowania supergęstego kodowania?  \n",
    "\n",
    "\n",
    "---\n",
    "**Zadanie 1.**  \n",
    "Napisać funkcję, która tworzy stan Bella (obwód złożony z dwóch fotonów w stanie splątanym).  \n",
    "\n",
    "Wejście: *brak*.   \n",
    "Wyjście: \n",
    "- `qc: QuantumCircuit` - stan Bella: $|\\Phi^{+}\\rangle = \\frac{1}{\\sqrt{2}} (|00\\rangle + |11\\rangle)$."
   ]
  },
  {
   "cell_type": "code",
   "execution_count": null,
   "id": "993ec043-ce8f-4577-b712-ab371864ca0c",
   "metadata": {},
   "outputs": [],
   "source": [
    "def create_bell_pair():\n",
    "    \n",
    "    #--- uzupełnić kod tutaj\n",
    "    \n",
    "    pass"
   ]
  },
  {
   "cell_type": "markdown",
   "id": "5ae5ea7e-83b4-4ae8-be93-1a5347814efb",
   "metadata": {},
   "source": [
    "---\n",
    "**Zadanie 2.**  \n",
    "Stworzyć funkcję, która działając tylko na kubicie Alicji (przyjmijmy, że to kubit o indeksie 1 w notacji Qiskit) zakoduje wiadomość, tj. dwa bity klasyczne, w parze splątanych kubitów Alicji i Boba.   \n",
    "\n",
    "Wejście:  \n",
    "- `qc: QuantumCircuit`: para Bella (wynik działania funkcji z Zadania 1), \n",
    "- `message: str` - wiadomość do zakodowania, dwa bity klasyczne: \"00\" lub \"01\" lub \"10\" lub \"11\".  \n",
    "- *uwaga* - funkcja może aplikować bramki tylko na kubicie o indeksie 1, kubit 0 jest fizycznie niedostępny dla Alicji  \n",
    "\n",
    "Wyjście: \n",
    "- `qc: QuantumCircuit` - para kubitów z zakodowaną informacją klasyczną.  \n",
    "\n",
    "---\n",
    "Operacje wykonywane przez Alicję na jej kubicie mają przeprowadzić łączny stan obu kubitów w inny stan Bella, zależnie od zawartości wiadomości:   \n",
    "`message == \"00\"` --> $|\\Phi^{+}\\rangle = \\frac{1}{\\sqrt{2}} (|00\\rangle + |11\\rangle)$   \n",
    "`message == \"01\"` --> $|\\Psi^{+}\\rangle = \\frac{1}{\\sqrt{2}} (|01\\rangle + |10\\rangle)$   \n",
    "`message == \"10\"` --> $|\\Phi^{-}\\rangle = \\frac{1}{\\sqrt{2}} (|00\\rangle - |11\\rangle)$  \n",
    "`message == \"11\"` --> $|\\Psi^{-}\\rangle = \\frac{1}{\\sqrt{2}} (|01\\rangle - |10\\rangle)$  "
   ]
  },
  {
   "cell_type": "code",
   "execution_count": 4,
   "id": "a5c9defb-10ec-4f74-b183-3d3b338252eb",
   "metadata": {},
   "outputs": [],
   "source": [
    "def encode_bits(qc, message: str):\n",
    "    \n",
    "    #--- uzupełnić kod tutaj\n",
    "    \n",
    "    pass "
   ]
  },
  {
   "cell_type": "markdown",
   "id": "10011647-3f3b-4bdc-9d16-18b58f269bca",
   "metadata": {},
   "source": [
    "**Zadanie 3.**  \n",
    "Napisać funkcję, która odkoduje wiadomość zawartą w splątanych fotonach.  \n",
    "  \n",
    "Wejście: \n",
    "- `qc: QuantumCircuit` - obwód z zakodowaną informacją klasyczną (wynik działania funkcji z Zadania 2)   \n",
    "\n",
    "Wyjście: \n",
    "- `qc: QuantumCircuit` - obwód, w którym oba kubity są w stanach bazowych odpowiadających bitom przesyłanej wiadomości  "
   ]
  },
  {
   "cell_type": "code",
   "execution_count": 5,
   "id": "6d5fdaad-3a79-4adc-a893-866ca769dd61",
   "metadata": {},
   "outputs": [],
   "source": [
    "def decode_circuit(qc):\n",
    "    \n",
    "    #--- uzupełnić kod tutaj\n",
    "    \n",
    "    pass "
   ]
  },
  {
   "cell_type": "markdown",
   "id": "ec520a08-c6c6-4052-a470-843c70b4ea91",
   "metadata": {},
   "source": [
    "**Zadanie 4**\n",
    "\n",
    "Wykonać kolejno funkcje zdefiniowane w poprzednich zadaniach i narysować przygotowany obwód, a następnie uruchomić kolejną komórkę w celu sprawdzenia czy kodowanie przebiegło pomyślnie (w wyniku powinien być mierzony stan o etykiecie takiej jak zakodowana wiadomość).  \n"
   ]
  },
  {
   "cell_type": "code",
   "execution_count": 8,
   "id": "2ed600d9-e512-466b-b50d-da96beb7d2bd",
   "metadata": {},
   "outputs": [],
   "source": [
    "\n",
    "#--- uzupełnić kod tutaj\n",
    "#--- wykonać po kolei funcje z zadań 1 - 3\n",
    "#--- i narysować wynikowy obwód\n"
   ]
  },
  {
   "cell_type": "code",
   "execution_count": null,
   "id": "6896a0e2-4ac2-4c5e-9edb-b53ead2de386",
   "metadata": {},
   "outputs": [],
   "source": [
    "circuit.measure_all()\n",
    "simulator = Aer.get_backend('qasm_simulator')\n",
    "simulator_result = simulator.run(circuit).result()\n",
    "simulator_result.get_counts()\n",
    "plot_histogram(simulator_result.get_counts())"
   ]
  },
  {
   "cell_type": "markdown",
   "id": "1bfe2a83-acec-4584-8c88-8f9d95ba0513",
   "metadata": {},
   "source": [
    "### Jakie korzyści może przynieść zastosowania kodowania supergęstego?\n",
    "\n",
    "#### Szybszy transfer informacji\n",
    "Jakie korzyści może przynieść zastosowanie kodowania supergęstego? Koniec końców do przeprowadzenia protokołu potrzebne są dwa kubity (para Bella). Różnica w stosunku do klasycznego kodowania jest taka, że jeden z tych kubitów może zostać dostarczony Bobowi z wyprzedzeniem, na długo przed spodziewaną komunikacją i przed ustaleniem treści wiadomości. W momencie gdy pojawi się nagle potrzeba przesłania szybko dużej ilości danych, wystarczy już tylko dosłać jeden kubit, aby przekazać dwa bity informacji. \n",
    "\n",
    "#### Bezpieczeństwo komunikacji  \n",
    "Potencjalny podsłuchiwacz ma dostęp tylko do kubitu, który Alicja przesyła do Boba. W takim wypadku nie ma on możliwości stwierdzenia jaką wiadomość Alicja wysyłała do Boba, ponieważ ma dostęp tylko do połowy informacji, która jest całkowicie losowa. W związku z tym informacja przekazywana przy użyciu kodowania supergęstego jest zabezpieczona przed odczytaniem przez inną osobę niż posiadacz drugiego kubitu z pary Bella.  \n",
    "\n",
    "Podsłuchujący może jednak zaburzyć komunikację:\n",
    "- po pierwsze może zmienić wiadomość, stosując operację Pauliego na przechwyconym kubicie; podsłuchiwacz nie będzie wiedział, jaką wiadomość otrzyma Bob (ponieważ będzie to kombinacja tego, co zrobiła Alicja i podsłuchiwacz), ale Bob nie otrzyma tego, co zamierzała wysłać mu Alicja;\n",
    "- po drugie - jeśli nie ma uwierzytelnienia odbiorcy - to podsłuchiwacz może próbować zastąpić Boba już na etapie rozdzielania pary Bella i odebrać zarówno pierwszy, jak i drugi kubit od Alicji.  "
   ]
  },
  {
   "cell_type": "code",
   "execution_count": null,
   "id": "29137871-39e6-4029-aa05-0eeaec3ad02c",
   "metadata": {},
   "outputs": [],
   "source": []
  }
 ],
 "metadata": {
  "kernelspec": {
   "display_name": "Python 3 (ipykernel)",
   "language": "python",
   "name": "python3"
  },
  "language_info": {
   "codemirror_mode": {
    "name": "ipython",
    "version": 3
   },
   "file_extension": ".py",
   "mimetype": "text/x-python",
   "name": "python",
   "nbconvert_exporter": "python",
   "pygments_lexer": "ipython3",
   "version": "3.9.2"
  }
 },
 "nbformat": 4,
 "nbformat_minor": 5
}
