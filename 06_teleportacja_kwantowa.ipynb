{
 "cells": [
  {
   "cell_type": "code",
   "execution_count": null,
   "metadata": {},
   "outputs": [],
   "source": [
    "from qiskit import QuantumCircuit, Aer, execute\n",
    "from qiskit.quantum_info import Statevector, partial_trace\n",
    "import numpy as np"
   ]
  },
  {
   "cell_type": "markdown",
   "metadata": {},
   "source": [
    "### Teleportacja kwantowa\n",
    "\n",
    "W tym notatniku przedstawiony zostanie protokół teleportacji kwantowej. Jest to protokół, który umożliwia przeniesienie stanu kwantowego z jednego kubitu na inny. Należy podkreślić, że: \n",
    "- teleportacja kwantowa nie łamie kwantowego zakazu klonowania (ang. *no-cloning theorem*), ponieważ informacja kwantowa w tym protokole nie jest kopiowana, a jedynie przenoszona na inny kubit (zostaje zniszczona na początkowym kubicie),  \n",
    "- w teleportacji kwantowej nie zachodzi przesłanie fizycznej materii; teleportowany jest jedynie stan kwantowy kubitu.\n",
    "\n",
    "----"
   ]
  },
  {
   "cell_type": "markdown",
   "metadata": {},
   "source": [
    "### Implementacja"
   ]
  },
  {
   "cell_type": "markdown",
   "metadata": {},
   "source": [
    "Wyobraźmy sobie, że Alicja i Bob chcą przeprowadzić protokół teleportacji i przeteleportować stan $\\vert\\psi\\rangle=\\vert 1 \\rangle$ od Alicji do Boba. Zakładamy, że Alicja i Bob mają do dyspozycji parę splątanych cząstek w stanie Bella, których mogą użyć, aby przeprowadzić teleportację.  \n"
   ]
  },
  {
   "cell_type": "code",
   "execution_count": null,
   "metadata": {},
   "outputs": [],
   "source": [
    "# Inicjalizujemy układ złożony z trzech kubitów:\n",
    "# q0 - kubit Alicji w stanie |psi>, który chcemy przeteleportować\n",
    "# q1 - drugi kubit Alicji, będzie to jeden z pary dwóch splątanych fotonów\n",
    "# q2 - kubit Boba, zostani on splątany z kubitem q1, \n",
    "#     (cel teleportacji, docelowo po całym protokole ma się znaleźć w stanie |psi>) \n",
    "\n",
    "circuit = ...\n",
    "\n",
    "# Następnie przygotowujemy kubit Alicji w stanie, który chcemy przetelportować (|1>)\n",
    "\n",
    "\n",
    "# Tworzymy splątanie między cząstkami q1 oraz q2\n",
    "\n",
    "\n",
    "# Wizualne oddzielenie od reszty obwodu\n",
    "circuit.barrier()\n",
    "\n",
    "# Tak wygląda układ przygotowany do przeprowadzenia teleportacji\n",
    "circuit.draw(output=\"mpl\")"
   ]
  },
  {
   "cell_type": "markdown",
   "metadata": {},
   "source": [
    "Następnie Alicja wykonuje serię operacji na swoich kubitach, a potem wykonuje pomiar obu kubitów."
   ]
  },
  {
   "cell_type": "code",
   "execution_count": null,
   "metadata": {},
   "outputs": [],
   "source": [
    "# Alicja działa bramką CNOT oraz bramką Hadamarda.\n",
    "\n",
    "\n",
    "# Następnie Alicja mierzy oba kubity i zapisuje wyniki w klasycznych bitach 0 oraz 1\n",
    "\n",
    "\n",
    "circuit.barrier()\n",
    "circuit.draw(output=\"mpl\")"
   ]
  },
  {
   "cell_type": "markdown",
   "metadata": {},
   "source": [
    "Alicja przekazuje Bobowi wyniki pomiarów klasycznym kanałem komunikacji. Zależnie od otrzymanej informacji, Bob aplikuje odpowiednie bramki kwantowe na swoim kubicie, aby ostatecznie otrzymać w wyniku stan $\\vert\\psi\\rangle$ ."
   ]
  },
  {
   "cell_type": "code",
   "execution_count": null,
   "metadata": {},
   "outputs": [],
   "source": [
    "# Bob wykonuje odpowiednie operacje (odpowiednie bramki), znając wyniki pomiarów Alicji.\n",
    "\n",
    "# Teoretycznie powinno być tak \n",
    "# (przesłanie wyników pomiarów klasycznie \n",
    "# i zastosowanie odpowiednich bramek \n",
    "# zależnie od wyników klasycznych bitów):\n",
    "# circuit.measure([0, 1], [0, 1])\n",
    "# circuit.x(2).c_if(cr2, 1)\n",
    "# circuit.z(2).c_if(cr1, 1)\n",
    "\n",
    "# Jednak na prawdziwym komputerze kwantowym nie ma na razie możliwości \n",
    "# wprowadzania bitów klasycznych.\n",
    "# U Alicji kubity po pomiarze już przeszły w ustalony stan, \n",
    "# więc można wykorzystać operacje czysto kwantowe.\n",
    "# Użycie bramek \"controlled\" pełni funkcję operacji IF\n",
    "# IF bit1 == 1 -> bramka X w działaniu na kubit 2\n",
    "# IF bit2 == 1 -> bramka Z w działaniu na kubit 2\n",
    "\n",
    "circuit.cx(1, 2)\n",
    "circuit.cz(0, 2)\n",
    "\n",
    "# Ostatecznie mierzymy kubit Boba, aby sprawdzić czy teleportacja powiodła się.\n",
    "circuit.measure([2], [2])\n",
    "\n",
    "# Oto cały obwód służący do teleportacji\n",
    "circuit.draw(output='mpl')"
   ]
  },
  {
   "cell_type": "markdown",
   "metadata": {},
   "source": [
    "### Przeprowadzenie symulacji"
   ]
  },
  {
   "cell_type": "code",
   "execution_count": null,
   "metadata": {},
   "outputs": [],
   "source": [
    "simulator = Aer.get_backend('qasm_simulator')\n",
    "result = execute(circuit, backend=simulator, shots=1024).result()\n",
    "from qiskit.visualization import plot_histogram\n",
    "plot_histogram(result.get_counts(circuit))"
   ]
  },
  {
   "cell_type": "markdown",
   "metadata": {},
   "source": [
    "Uwaga (przypomnienie) - kolejność kubitów w etykietkach jest od prawej do lewej - najmłodsze bity po prawej stronie. Jak widać, stan kubitu $2$ (pierwsza cyfra etykiety) jest zawsze równy 1, z racji że teleportowaliśmy stan $\\vert1\\rangle$ na kubit 2."
   ]
  },
  {
   "cell_type": "markdown",
   "metadata": {},
   "source": [
    "----\n",
    "### Teleportacja ogólnego stanu (superpozycji |0> oraz |1>)"
   ]
  },
  {
   "cell_type": "markdown",
   "metadata": {},
   "source": [
    "Zaczniemy od stworzenia ogólniejszego stanu $\\vert \\psi \\rangle$, będącego superpozycją stanów bazowych $\\vert 0 \\rangle$ oraz $\\vert 1 \\rangle$. W tym celu wprowadzimy parametr $\\theta$:  \n",
    "$ \\vert \\psi \\rangle = \\text{cos}\\cfrac{\\theta}{2} \\, \\vert 0 \\rangle + \\text{sin}\\cfrac{\\theta}{2}\\, \\vert 1 \\rangle $  \n",
    "Aby przekształcić stan początkowy $\\vert 0 \\rangle$ w stan zależny od $\\theta$, użyjemy bramki $R_Y$, czyli macierzy obrotu wokół osi Y (przy wizualizacji na sferze Blocha). W postaci macierzowej bramka ta wygląda nastepująco:  \n",
    "$R_Y = \\begin{bmatrix} \\text{cos}\\cfrac{\\theta}{2} & - \\text{sin}\\cfrac{\\theta}{2} \\\\  \\text{sin}\\cfrac{\\theta}{2} &  \\text{cos}\\cfrac{\\theta}{2} \\end{bmatrix} $  \n",
    "Uwaga - ta reprezentacja nie obejmuje wszystkich możliwych stanów. Aby objąć wszystkie możliwe stany, trzeba użyć przynajmniej dwóch rotacji (dwóch parametrów). Więcej informacji na ten temat w notatniku `05_sfera_blocha.ipynb`."
   ]
  },
  {
   "cell_type": "code",
   "execution_count": null,
   "metadata": {},
   "outputs": [],
   "source": [
    "def create_state_psi(theta):\n",
    "    # zwraca stan |psi> = cos(theta/2)*|0> + sin(theta/2)*|1>\n",
    "    # theta = 0 => układ jest w stanie |0>\n",
    "    # theta = pi => układ jest w stanie |1>\n",
    "    \n",
    "    psi_circuit = QuantumCircuit(1)\n",
    "    psi_circuit.ry(theta, 0)\n",
    "    \n",
    "    return psi_circuit"
   ]
  },
  {
   "cell_type": "markdown",
   "metadata": {},
   "source": [
    "Możemy wyświetlić przykładowe stany generowane przez $R_Y$, zależnie od wartości parametru $\\theta$:"
   ]
  },
  {
   "cell_type": "code",
   "execution_count": null,
   "metadata": {},
   "outputs": [],
   "source": [
    "for iteration in range(-4, 5, 1):\n",
    "    theta = iteration*(np.pi/4)\n",
    "    psi_circuit = create_state_psi(theta)\n",
    "    psi_circuit.draw(output=\"mpl\")\n",
    "    st0 = Statevector.from_instruction(psi_circuit)\n",
    "    print(f\"theta {theta:2.4f}, vector: {np.array2string(st0.data, precision=2, floatmode='fixed', suppress_small=True)}\")"
   ]
  },
  {
   "cell_type": "markdown",
   "metadata": {},
   "source": [
    "Naszym celem jest określenie czy stan kubitu 0 przed teleportacją jest taki sam jak stan kubitu 2 po teleportacji. W tym celu potrzebna nam będzie możliwość określenia stanu jednego z kilku kubitów w układzie. Obiekt `Statevector` umożliwia wyświetlenie stanu całego układu trzech kubitów łącznie (tj. wektor w przestrzeni $H_0 \\otimes H_1 \\otimes H_2$), natomiast my potrzebujemy z tego wyodrębnić wektor dla kubitu 0 lub 2.   \n",
    "\n",
    "W tym celu posłużymy się operacją *śladu częściowego (ang. partial trace)*. "
   ]
  },
  {
   "cell_type": "code",
   "execution_count": null,
   "metadata": {},
   "outputs": [],
   "source": [
    "def single_qubit_state(circuit, qubits_to_trace_out):\n",
    "    \n",
    "    # określenie wektora stanu całego układu (łącznego wektora stanu kilku kubitów)\n",
    "    full_statevector = Statevector.from_instruction(circuit)\n",
    "\n",
    "    # wykonanie operacji śladu częściowego - \n",
    "    # określamy, których kubitów chcemy się \"pozbyć\" z układu\n",
    "    partial_density_matrix = partial_trace(full_statevector, qubits_to_trace_out)\n",
    "\n",
    "    # jako wynik dostaliśmy macierz gęstości, \n",
    "    # z racji, że mamy stan czysty to możemy z macierzy gęstości \n",
    "    # wydobyć informację o wektorze stanu\n",
    "    partial_statevector = np.sqrt(np.diagonal(partial_density_matrix))\n",
    "\n",
    "    return partial_statevector"
   ]
  },
  {
   "cell_type": "markdown",
   "metadata": {},
   "source": [
    "Teraz już możemy zdefiniować funkcję, która zbuduje obwód, przy pomocy którego przeprowadzimy teleportację, a także zapiszemy stan układu przed i po protokole teleportacji."
   ]
  },
  {
   "cell_type": "code",
   "execution_count": null,
   "metadata": {},
   "outputs": [],
   "source": [
    "def circuit_with_state_extraction(theta):\n",
    "\n",
    "    circuit = QuantumCircuit(3, 3)\n",
    "    \n",
    "    # ustalenie kubitu 0 w stanie, który chcemy teleportować\n",
    "    circuit.append(create_state_psi(theta).to_instruction(), [0])\n",
    "    \n",
    "    # zapisanie stanu początkowego kubitu 0 \n",
    "    # (do porównania z wynikiem na kubicie 2)\n",
    "    state_to_teleport = single_qubit_state(circuit, [1,2])\n",
    "    \n",
    "    # splątanie kubitów 1 i 2 - stworzenie pary Bella, \n",
    "    # z której jeden kubit ma Alicja, a drugi ma Bob\n",
    "    circuit.h(1)\n",
    "    circuit.cx(1,2)\n",
    "\n",
    "    # wykonanie odpowiednich operacji przez Alicję\n",
    "    circuit.cx(0,1)\n",
    "    circuit.h(0)\n",
    "    \n",
    "    # wykonanie odpowiednich operacji przez Boba -\n",
    "    # zaaplikowanie bramek zależnie od wyników pomiarów u Alicji\n",
    "    circuit.cx(1,2)\n",
    "    circuit.cz(0,2)\n",
    "\n",
    "    # zapisanie stanu wynikowego kubitu 2 (do sprawdzenia czy teleportacja zakończona sukcesem)\n",
    "    state_after_teleportation = single_qubit_state(circuit, [0,1])\n",
    "    \n",
    "    return state_to_teleport, state_after_teleportation\n"
   ]
  },
  {
   "cell_type": "markdown",
   "metadata": {},
   "source": [
    "Teraz możemy sprawdzić stan przed i po teleportacji dla dowolnego parametru wejściowego $\\theta$. Powinny być zawsze jednakowe, dla dowolnego kąta $\\theta$."
   ]
  },
  {
   "cell_type": "code",
   "execution_count": null,
   "metadata": {},
   "outputs": [],
   "source": [
    "theta = np.pi/3\n",
    "\n",
    "state_to_teleport, state_after_teleportation = circuit_with_state_extraction(theta)\n",
    "\n",
    "print(f\"Stan przed teleportacją: {state_to_teleport}\") \n",
    "print(f\"Stan po teleportacji   : {state_after_teleportation}\")"
   ]
  },
  {
   "cell_type": "markdown",
   "metadata": {},
   "source": [
    "### Wersja Qiskit"
   ]
  },
  {
   "cell_type": "code",
   "execution_count": null,
   "metadata": {},
   "outputs": [],
   "source": [
    "import qiskit\n",
    "qiskit.__qiskit_version__"
   ]
  }
 ],
 "metadata": {
  "kernelspec": {
   "display_name": "Python 3 (ipykernel)",
   "language": "python",
   "name": "python3"
  },
  "language_info": {
   "codemirror_mode": {
    "name": "ipython",
    "version": 3
   },
   "file_extension": ".py",
   "mimetype": "text/x-python",
   "name": "python",
   "nbconvert_exporter": "python",
   "pygments_lexer": "ipython3",
   "version": "3.9.2"
  }
 },
 "nbformat": 4,
 "nbformat_minor": 4
}
