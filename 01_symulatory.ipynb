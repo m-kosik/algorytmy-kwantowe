{
 "cells": [
  {
   "cell_type": "code",
   "execution_count": 1,
   "metadata": {},
   "outputs": [],
   "source": [
    "from qiskit import QuantumCircuit, Aer\n",
    "from qiskit.quantum_info import random_unitary\n",
    "from qiskit.visualization import array_to_latex, plot_histogram"
   ]
  },
  {
   "cell_type": "markdown",
   "metadata": {},
   "source": [
    "Przy pomocy biblioteki Qiskit można uruchamiać programy w dwojaki sposób:\n",
    "- na prawdziwym komputerze kwantowym przez platformę IBM (https://quantum.ibm.com/)\n",
    "- przy pomocy symulatorów, które odtwarzają w przybliżony sposób zachowanie prawdziwego komputera kwantowego.  \n",
    "\n",
    "Symulatory są dostępne w paczce Qiskit Aer. Poniżej wyświetlimy listę lokalnie dostępnych symulatorów."
   ]
  },
  {
   "cell_type": "code",
   "execution_count": 2,
   "metadata": {},
   "outputs": [
    {
     "data": {
      "text/plain": [
       "[AerSimulator('aer_simulator'),\n",
       " AerSimulator('aer_simulator_statevector'),\n",
       " AerSimulator('aer_simulator_density_matrix'),\n",
       " AerSimulator('aer_simulator_stabilizer'),\n",
       " AerSimulator('aer_simulator_matrix_product_state'),\n",
       " AerSimulator('aer_simulator_extended_stabilizer'),\n",
       " AerSimulator('aer_simulator_unitary'),\n",
       " AerSimulator('aer_simulator_superop'),\n",
       " QasmSimulator('qasm_simulator'),\n",
       " StatevectorSimulator('statevector_simulator'),\n",
       " UnitarySimulator('unitary_simulator'),\n",
       " PulseSimulator('pulse_simulator')]"
      ]
     },
     "execution_count": 2,
     "metadata": {},
     "output_type": "execute_result"
    }
   ],
   "source": [
    "# Wyświetlenie dostępnych backendów do symulacji:\n",
    "Aer.backends()"
   ]
  },
  {
   "cell_type": "markdown",
   "metadata": {},
   "source": [
    "### Unitary Simulator\n",
    "Symulator *Unitary Simulator* służy do reprezentowania bramek w ich postaci macierzowej (jako operatory unitarne - macierze unitarne - stąd nazwa). Działanie całego obwodu złożonego z wielu bramek można opisać jednym operatorem unitarnym - symulator Unitary pozwala wyświetlić postać tego operatora. Poniżej zobaczymy jego działanie dla przykładowego obwodu.   "
   ]
  },
  {
   "cell_type": "code",
   "execution_count": 3,
   "metadata": {},
   "outputs": [
    {
     "data": {
      "image/png": "[encoded data removed]",
      "text/plain": [
       "<Figure size 287.294x200.667 with 1 Axes>"
      ]
     },
     "execution_count": 3,
     "metadata": {},
     "output_type": "execute_result"
    }
   ],
   "source": [
    "# Definiujemy obwód kwantowy złożony z dwóch kubitów. \n",
    "# Nie mamy potrzeby wykonywać tutaj żadnych pomiarów, stąd nie potrzeba bitów klasycznych.\n",
    "# Następnie dodajemy do niego dwie bramki - Hadamarda w działaniu na 1 kubit oraz CNOT.\n",
    "\n",
    "circuit = QuantumCircuit(2)\n",
    "circuit.h(0)\n",
    "circuit.cx(0, 1)\n",
    "circuit.draw('mpl')"
   ]
  },
  {
   "cell_type": "code",
   "execution_count": 4,
   "metadata": {},
   "outputs": [
    {
     "data": {
      "text/plain": [
       "{'unitary': Operator([[ 0.70710678+0.00000000e+00j,  0.70710678-8.65956056e-17j,\n",
       "             0.        +0.00000000e+00j,  0.        +0.00000000e+00j],\n",
       "           [ 0.        +0.00000000e+00j,  0.        +0.00000000e+00j,\n",
       "             0.70710678+0.00000000e+00j, -0.70710678+8.65956056e-17j],\n",
       "           [ 0.        +0.00000000e+00j,  0.        +0.00000000e+00j,\n",
       "             0.70710678+0.00000000e+00j,  0.70710678-8.65956056e-17j],\n",
       "           [ 0.70710678+0.00000000e+00j, -0.70710678+8.65956056e-17j,\n",
       "             0.        +0.00000000e+00j,  0.        +0.00000000e+00j]],\n",
       "          input_dims=(2, 2), output_dims=(2, 2))}"
      ]
     },
     "execution_count": 4,
     "metadata": {},
     "output_type": "execute_result"
    }
   ],
   "source": [
    "# Wybieramy symulator - \"Unitary simulator\"\n",
    "unitary_simulator = Aer.get_backend('unitary_simulator')       \n",
    "\n",
    "# Przeprowadzamy symulację i odczytujemy wynik\n",
    "unitary_simulator_result = unitary_simulator.run(circuit).result()\n",
    "unitary_simulator_result.data()"
   ]
  },
  {
   "cell_type": "markdown",
   "metadata": {},
   "source": [
    "Wynikiem jest operator opisujący przekształcenia wykonywane przez cały obwód, przedstawiony w reprezentacji macierzowej. Możemy wyświetlić go w postaci macierzy, korzystając z funkcji  `array_to_latex`."
   ]
  },
  {
   "cell_type": "code",
   "execution_count": 5,
   "metadata": {},
   "outputs": [
    {
     "data": {
      "text/latex": [
       "$$\n",
       "\n",
       "\\begin{bmatrix}\n",
       "\\tfrac{1}{\\sqrt{2}} & \\tfrac{1}{\\sqrt{2}} & 0 & 0  \\\\\n",
       " 0 & 0 & \\tfrac{1}{\\sqrt{2}} & -\\tfrac{1}{\\sqrt{2}}  \\\\\n",
       " 0 & 0 & \\tfrac{1}{\\sqrt{2}} & \\tfrac{1}{\\sqrt{2}}  \\\\\n",
       " \\tfrac{1}{\\sqrt{2}} & -\\tfrac{1}{\\sqrt{2}} & 0 & 0  \\\\\n",
       " \\end{bmatrix}\n",
       "$$"
      ],
      "text/plain": [
       "<IPython.core.display.Latex object>"
      ]
     },
     "execution_count": 5,
     "metadata": {},
     "output_type": "execute_result"
    }
   ],
   "source": [
    "array_to_latex(unitary_simulator_result.get_unitary())"
   ]
  },
  {
   "cell_type": "code",
   "execution_count": 6,
   "metadata": {},
   "outputs": [
    {
     "data": {
      "text/plain": [
       "Operator([[-0.27103209-0.11227844j, -0.30164808-0.24164247j,\n",
       "            0.06849397-0.40300585j, -0.5487335 -0.5443702j ],\n",
       "          [ 0.8944793 -0.23390809j,  0.01340409+0.13388447j,\n",
       "           -0.13575962-0.24101524j, -0.20183484-0.09916023j],\n",
       "          [ 0.16562428+0.16046973j,  0.19041679-0.84614887j,\n",
       "           -0.25220447+0.25826432j, -0.20951247+0.14278859j],\n",
       "          [ 0.0444203 +0.06303852j, -0.06186121+0.27651287j,\n",
       "           -0.21097559+0.76259923j, -0.22681346-0.48605985j]],\n",
       "         input_dims=(2, 2), output_dims=(2, 2))"
      ]
     },
     "execution_count": 6,
     "metadata": {},
     "output_type": "execute_result"
    }
   ],
   "source": [
    "circuit = QuantumCircuit(2)\n",
    "circuit.set_unitary(random_unitary(4))\n",
    "circuit.h(0)\n",
    "circuit.cx(0, 1)\n",
    "unitary_simulator_result = unitary_simulator.run(circuit).result()\n",
    "unitary_simulator_result.get_unitary()"
   ]
  },
  {
   "cell_type": "markdown",
   "metadata": {},
   "source": [
    "### Statevector Simulator\n",
    "\n",
    "Symulator *Statevector Simulator* daje dostęp do stanu układu w postaci wektora.  \n",
    "Od wersji Qiskit 1.0 jest też możliwość wyświetlania stanu przy pomocy klasy `Statevector` z modułu `qiskit.quantum_info`. Zostanie ona przedstawiona w notatniku `02_stany_kwantowe.ipynb`.  "
   ]
  },
  {
   "cell_type": "code",
   "execution_count": 7,
   "metadata": {},
   "outputs": [
    {
     "data": {
      "text/plain": [
       "{'statevector': Statevector([0.70710678+0.j, 0.        +0.j, 0.        +0.j,\n",
       "              0.70710678+0.j],\n",
       "             dims=(2, 2))}"
      ]
     },
     "execution_count": 7,
     "metadata": {},
     "output_type": "execute_result"
    }
   ],
   "source": [
    "# Ponownie definiujemy obwód kwantowy złożony z dwóch kubitów. \n",
    "# Tak jak wyżej - nie mamy potrzeby wykonywać tutaj żadnych pomiarów, stąd nie potrzeba bitów klasycznych.\n",
    "# Następnie dodajemy do niego dwie bramki - Hadamarda w działaniu na 1 kubit oraz CNOT.\n",
    "\n",
    "circuit = QuantumCircuit(2)\n",
    "circuit.h(0)\n",
    "circuit.cx(0, 1)\n",
    "\n",
    "statevector_simulator = Aer.get_backend('statevector_simulator')\n",
    "statevector_simulator_result = statevector_simulator.run(circuit).result()\n",
    "statevector_simulator_result.data()"
   ]
  },
  {
   "cell_type": "markdown",
   "metadata": {},
   "source": [
    "Wynikiem jest wektor opisujący stan układu po przejściu przez cały obwód kwantowy.  "
   ]
  },
  {
   "cell_type": "code",
   "execution_count": 8,
   "metadata": {},
   "outputs": [
    {
     "data": {
      "text/latex": [
       "$$\n",
       "\n",
       "\\begin{bmatrix}\n",
       "\\tfrac{1}{\\sqrt{2}} & 0 & 0 & \\tfrac{1}{\\sqrt{2}}  \\\\\n",
       " \\end{bmatrix}\n",
       "$$"
      ],
      "text/plain": [
       "<IPython.core.display.Latex object>"
      ]
     },
     "execution_count": 8,
     "metadata": {},
     "output_type": "execute_result"
    }
   ],
   "source": [
    "array_to_latex(statevector_simulator_result.get_statevector())"
   ]
  },
  {
   "cell_type": "markdown",
   "metadata": {},
   "source": [
    "### QASM Simulator  \n",
    "Symulator *QASM* symuluje wykonywanie pomiarów na rzeczywistym komputerze kwantowym. Domyślnie symuluje on pomiary na idealnym komputerze kwantowym - bez szumu czy dekoherencji.   "
   ]
  },
  {
   "cell_type": "code",
   "execution_count": 9,
   "metadata": {},
   "outputs": [
    {
     "data": {
      "image/png": "[encoded data removed]",
      "text/plain": [
       "<Figure size 454.517x284.278 with 1 Axes>"
      ]
     },
     "execution_count": 9,
     "metadata": {},
     "output_type": "execute_result"
    }
   ],
   "source": [
    "# Definiujemy obwód z dwoma kubitami. \n",
    "# Tutaj już będziemy wykonywać pomiary (z racji, że chcemy symulować rzeczywiste urządzenie),\n",
    "# więc dodajemy dwa bity klasyczne na zapisanie wyników pomiarów.\n",
    "\n",
    "circuit = QuantumCircuit(2, 2)\n",
    "circuit.h(0)\n",
    "circuit.cx(0, 1)\n",
    "circuit.measure([0,1], [0,1])\n",
    "circuit.draw('mpl')"
   ]
  },
  {
   "cell_type": "code",
   "execution_count": 10,
   "metadata": {},
   "outputs": [
    {
     "data": {
      "text/plain": [
       "{'00': 507, '11': 517}"
      ]
     },
     "execution_count": 10,
     "metadata": {},
     "output_type": "execute_result"
    }
   ],
   "source": [
    "qasm_simulator = Aer.get_backend('qasm_simulator')\n",
    "qasm_simulator_result = qasm_simulator.run(circuit).result()\n",
    "qasm_simulator_result.get_counts()"
   ]
  },
  {
   "cell_type": "markdown",
   "metadata": {},
   "source": [
    "Standardowo wynikiem symulacji jest słownik Python. Można zwizualizować wyniki histogramem:"
   ]
  },
  {
   "cell_type": "code",
   "execution_count": 11,
   "metadata": {},
   "outputs": [
    {
     "data": {
      "image/png": "[encoded data removed]",
      "text/plain": [
       "<Figure size 700x500 with 1 Axes>"
      ]
     },
     "execution_count": 11,
     "metadata": {},
     "output_type": "execute_result"
    }
   ],
   "source": [
    "plot_histogram(qasm_simulator_result.get_counts())"
   ]
  }
 ],
 "metadata": {
  "kernelspec": {
   "display_name": "Python 3 (ipykernel)",
   "language": "python",
   "name": "python3"
  },
  "language_info": {
   "codemirror_mode": {
    "name": "ipython",
    "version": 3
   },
   "file_extension": ".py",
   "mimetype": "text/x-python",
   "name": "python",
   "nbconvert_exporter": "python",
   "pygments_lexer": "ipython3",
   "version": "3.9.2"
  }
 },
 "nbformat": 4,
 "nbformat_minor": 4
}
