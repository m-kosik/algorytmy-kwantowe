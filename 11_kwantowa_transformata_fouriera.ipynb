{
 "cells": [
  {
   "cell_type": "code",
   "execution_count": null,
   "id": "7767f825-28b4-456a-aed0-04fabed5c88b",
   "metadata": {},
   "outputs": [],
   "source": [
    "import numpy as np\n",
    "from numpy import pi\n",
    "# importing Qiskit\n",
    "from qiskit import QuantumCircuit, transpile, Aer\n",
    "from qiskit.quantum_info import Statevector\n",
    "from qiskit.visualization import plot_histogram, plot_bloch_multivector"
   ]
  },
  {
   "cell_type": "markdown",
   "id": "4adccded-167c-43d3-baf2-8a1739b84098",
   "metadata": {},
   "source": [
    "### Kwantowa transformata Fouriera - wprowadzenie\n",
    "\n",
    "Kwantowa transformata Fouriera (QFT) jest kwantową implementacją dyskretnej transformaty Fouriera. Jest ona istotną częścią wielu algorytmów kwantowych, w szczególności algorytmu faktoryzacji Shora i kwantowej estymacji fazy. \n",
    "Dyskretna transformata Fouriera działa na wektor $(x_0, ..., x_{N-1})$ i przeprowadza go w wektor  $(y_0, ..., y_{N-1})$ zgodnie z wzorem:\n",
    "$$y_k = \\frac{1}{\\sqrt{N}}\\sum_{j=0}^{N-1}x_j\\omega_N^{jk}$$\n",
    "\n",
    "gdzie $\\omega_N^{jk} = e^{2\\pi i \\frac{jk}{N}}$.\n",
    "\n",
    "Podobnie, kwantowa transformata Fouriera działa na stan kwantowy $\\vert X\\rangle = \\sum_{j=0}^{N-1} x_j \\vert j \\rangle$ i przeprowadza go w stan kwantowy $\\vert Y\\rangle = \\sum_{k=0}^{N-1} y_k \\vert k \\rangle$ zgodnie z wzorem:\n",
    "\n",
    "$$y_k = \\frac{1}{\\sqrt{N}}\\sum_{j=0}^{N-1}x_j\\omega_N^{jk}$$\n",
    "\n",
    "gdzie ponownie $\\omega_N^{jk} = e^{2\\pi i \\frac{jk}{N}}$. \n",
    "\n",
    "Można to zapisać także jako przekształcenie działające na stany bazowe:  \n",
    "\n",
    "$$\\vert j \\rangle \\mapsto \\frac{1}{\\sqrt{N}}\\sum_{k=0}^{N-1}\\omega_N^{jk} \\vert k \\rangle$$\n",
    "\n",
    "Albo macierz unitarną:  \n",
    "\n",
    "$$ U_{QFT} = \\frac{1}{\\sqrt{N}} \\sum_{j=0}^{N-1} \\sum_{k=0}^{N-1} \\omega_N^{jk} \\vert k \\rangle \\langle j \\vert$$"
   ]
  },
  {
   "cell_type": "markdown",
   "id": "6ecc081e-5f4d-4074-9015-1fec7570ba30",
   "metadata": {},
   "source": [
    "#### Kwantowa transformata Fouriera w jednym wymiarze (jeden kubit)\n",
    "\n",
    "**Zadanie.** Obliczyć wynik działania operatora QFT na stan  $\\vert\\psi\\rangle = \\alpha \\vert 0 \\rangle + \\beta \\vert 1 \\rangle$. Czy znasz bramkę kwantową, która wykonuje właśnie taką transformację?  "
   ]
  },
  {
   "cell_type": "markdown",
   "id": "83f53e76-8e7f-4e10-929a-f0ad7b3d2537",
   "metadata": {},
   "source": [
    "#### Baza standardowa vs baza Fouriera\n",
    "\n",
    "Można patrzeć na kwantową transformatę Fouriera jak na przekształcenie przeprowadzające stany z bazy obliczeniowej do bazy Fouriera.  \n",
    "\n",
    "W jednym wymiarze - QFT jest realizowane przez bramkę Hadamarda, która transformuje stany bazowe bazy obliczeniowej ( $|0\\rangle$, $|1\\rangle$) w stany bazowe bazy diagonalnej ($|{+}\\rangle$, $|{-}\\rangle$). Podobnie, stany wielokubitowe mają odpowiadające im stany w bazie Fouriera. QFT jest przekształceniem, które wykonuje transformację między tymi bazami.  \n",
    "\n",
    "$$\n",
    "|\\text{stan w bazie obliczeniowej}\\rangle \\quad \\xrightarrow[]{\\text{QFT}} \\quad |\\text{stan w bazie Fouriera}\\rangle\n",
    "$$\n",
    "\n",
    "$$\n",
    "\\text{QFT}|x\\rangle = |\\widetilde{x}\\rangle\n",
    "$$\n"
   ]
  },
  {
   "cell_type": "markdown",
   "id": "69cd1eeb-73d3-450f-b776-0f157f1c622b",
   "metadata": {},
   "source": [
    "#### Implementacja QFT dla trzech kubitów\n",
    "\n",
    "\n",
    "**Bramka controlled phase CP**\n",
    "\n",
    "$$\n",
    "CP(\\theta) =\n",
    "\\begin{bmatrix} 1 & 0 & 0 & 0 \\\\ 0 & 1 & 0 & 0 \\\\ 0 & 0 & 1 & 0 \\\\ 0 & 0 & 0 & e^{i\\theta}\\end{bmatrix}\n",
    "$$"
   ]
  },
  {
   "cell_type": "code",
   "execution_count": null,
   "id": "9ff31677-50d7-4c57-b9c6-8ce9134bdb01",
   "metadata": {},
   "outputs": [],
   "source": [
    "# Stworzenie obwodu\n",
    "\n",
    "qc = QuantumCircuit(3)\n",
    "\n",
    "# -----\n",
    "# tu uzupełnić bramki\n",
    "# -----\n",
    "\n",
    "qc.draw(output=\"mpl\")"
   ]
  },
  {
   "cell_type": "code",
   "execution_count": null,
   "id": "d652e841-30c7-42ba-b0e6-d9fd16a17fd2",
   "metadata": {},
   "outputs": [],
   "source": [
    "# Narysowanie stanu kodującego liczbę 5 na trzech kubitach + plot multivector\n",
    "qc = QuantumCircuit(3)\n",
    "qc.x(0)\n",
    "qc.x(2)\n",
    "statevector = Statevector.from_instruction(qc)\n",
    "plot_bloch_multivector(statevector)"
   ]
  },
  {
   "cell_type": "code",
   "execution_count": null,
   "id": "c7d00e7e-bc17-42c0-9473-f7e6aa971595",
   "metadata": {},
   "outputs": [],
   "source": [
    "# Zadziałanie transformatą Fouriera + plot multivector\n",
    "\n",
    "# Skopiować uzupełnione bramki z komórki 2 wyzej.\n",
    "\n",
    "statevector = Statevector.from_instruction(qc)\n",
    "plot_bloch_multivector(statevector)"
   ]
  },
  {
   "cell_type": "markdown",
   "id": "604e8e91-ca30-48fa-b2a4-886e9b97ad60",
   "metadata": {},
   "source": []
  },
  {
   "cell_type": "markdown",
   "id": "bf120c95-4614-4b93-b73e-e7eae7154439",
   "metadata": {},
   "source": [
    "#### Kwantowa transformata Fouriera dla wielu kubitów  \n",
    "**Zadanie.** Napisać funkcję, która wygeneruje obwód kwantowy liczący kwantową transformatę Fouriera dla $n$ kubitów, gdzie $n$ to dowolna liczba naturalna.  "
   ]
  },
  {
   "cell_type": "code",
   "execution_count": null,
   "id": "5bcbfe33-b900-469c-9a9f-27397cf4492d",
   "metadata": {},
   "outputs": [],
   "source": [
    "def qft(circuit, n):\n",
    "    \n",
    "    \n",
    "    return circuit"
   ]
  },
  {
   "cell_type": "code",
   "execution_count": null,
   "id": "4921f6fd-8fbc-44f1-a245-cdeea5bfe93d",
   "metadata": {},
   "outputs": [],
   "source": [
    "qc = QuantumCircuit(4)\n",
    "qft(qc,4)\n",
    "qc.draw()"
   ]
  },
  {
   "cell_type": "markdown",
   "id": "4f7e1544-9bd3-46fc-b405-0f8b98c1b448",
   "metadata": {},
   "source": [
    "**Zadanie.** Zwizualizować przy pomocy `plot_bloch_multivector` jak wygląda stan reprezentujący liczbę naturalną 11 (na 4 kubitach) przed i po zadziałaniu QFT.  "
   ]
  },
  {
   "cell_type": "markdown",
   "id": "b2218638-0432-4d1d-a9c5-3c3daebb78cc",
   "metadata": {},
   "source": [
    "#### Odwrotna transformata Fouriera"
   ]
  },
  {
   "cell_type": "code",
   "execution_count": null,
   "id": "2d8cccbf-dc9b-413a-96f6-71c7af058e97",
   "metadata": {},
   "outputs": [],
   "source": [
    "def inverse_qft(circuit, n):\n",
    "    \n",
    "    qft_circ = qft(QuantumCircuit(n), n)\n",
    "    \n",
    "    inverse_qft_circ = qft_circ.inverse()\n",
    "    \n",
    "    circuit.append(inverse_qft_circ, circuit.qubits[:n])\n",
    "    \n",
    "    return circuit.decompose() \n",
    "    # .decompose() allows us to see the individual gates"
   ]
  },
  {
   "cell_type": "markdown",
   "id": "cdcb9ffc-7fe6-4c46-aa29-78957fcddfc4",
   "metadata": {},
   "source": [
    "**Zadanie.** Sprawdzić, że po zadziałaniu na stan kwantową transformatą Fouriera, a następnie odwrotną transformatą Fouriera, dostaniemy z powrotem początkowy stan."
   ]
  },
  {
   "cell_type": "markdown",
   "id": "44ced9ef-336b-4e7d-a63a-427fda6c0050",
   "metadata": {},
   "source": [
    "**Zadanie.** Przykładowa implementacja na trzech kubitach była testowana przez sprawdzenie stanu $|\\widetilde{5}\\rangle$, dla którego $\\text{QFT}^{\\dagger}|\\widetilde{5}\\rangle = |101\\rangle$. Znaleźć stan $|a\\rangle$ taki że $\\text{QFT}^{\\dagger}|a\\rangle = |100\\rangle$. Znaleźć stan $|b\\rangle$, taki że $\\text{QFT}^{\\dagger}|b\\rangle = |011\\rangle$."
   ]
  },
  {
   "cell_type": "code",
   "execution_count": null,
   "id": "8ac23419-1476-46de-b082-18b58316d571",
   "metadata": {},
   "outputs": [],
   "source": []
  },
  {
   "cell_type": "code",
   "execution_count": null,
   "id": "b28abc2b-aaae-4b8c-ab3a-ca36b787749c",
   "metadata": {},
   "outputs": [],
   "source": []
  }
 ],
 "metadata": {
  "kernelspec": {
   "display_name": "Python 3 (ipykernel)",
   "language": "python",
   "name": "python3"
  },
  "language_info": {
   "codemirror_mode": {
    "name": "ipython",
    "version": 3
   },
   "file_extension": ".py",
   "mimetype": "text/x-python",
   "name": "python",
   "nbconvert_exporter": "python",
   "pygments_lexer": "ipython3",
   "version": "3.9.2"
  }
 },
 "nbformat": 4,
 "nbformat_minor": 5
}
