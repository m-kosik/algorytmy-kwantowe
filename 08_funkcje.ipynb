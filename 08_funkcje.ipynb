{
 "cells": [
  {
   "cell_type": "code",
   "execution_count": 1,
   "id": "44481616-da2d-43ec-9de6-f03453e8d148",
   "metadata": {},
   "outputs": [],
   "source": [
    "from qiskit import (QuantumCircuit, QuantumRegister, ClassicalRegister, execute, Aer, BasicAer)\n",
    "import math"
   ]
  },
  {
   "cell_type": "markdown",
   "id": "d2926c14-7be0-421d-93a0-9e03c34643a9",
   "metadata": {},
   "source": [
    "\n",
    "### 1. Implementacja funkcji typu $f: \\mathbb{F}_2^n \\rightarrow \\mathbb{F}_2$  \n",
    "\n",
    "W tym notatniku będziemy rozpatrywać funkcje przeprowadzające ciągi binarne w pojedynczą wartość skalarną, tj. funkcje działające z $\\mathbb{F}_2^n \\rightarrow \\mathbb{F}_2$.    \n",
    "  \n",
    "Kwantowy odpowiednik klasycznej funkcji $f(\\vec{x})$ oznaczmy jako $U_f$:    \n",
    "$U_f: \\vert \\vec{x} y \\rangle \\longrightarrow \\vert \\vec{x} y \\otimes f(\\vec{x}) \\rangle  $\n",
    "\n",
    "----\n",
    "\n",
    "1a. Najpierw rozpatrzymy funkcje od argumentu będącego ciągiem o długości 1 (funkcje jednoargumentowe): $f(x)$. W tym przypadku:  \n",
    "- istnieją dokładnie 2 funkcje stałe: jakie? \n",
    "- istnieją dokładnie 2 funkcje zbilansowane: jakie?\n"
   ]
  },
  {
   "cell_type": "code",
   "execution_count": 2,
   "id": "df1e9283-c9ef-4b71-a828-e58b2d8c169e",
   "metadata": {},
   "outputs": [],
   "source": [
    "# Implementacja funkcji stałej i zbilansowanej f(x)\n",
    "\n"
   ]
  },
  {
   "cell_type": "markdown",
   "id": "caa5bab2-1f96-40ce-8b37-397c67ddcb41",
   "metadata": {},
   "source": [
    "1b. Kwantowa realizacja funkcji dwuargumentowej: $f(x,y)$  \n",
    "\n",
    "**Zadanie.** Podać przykład funkcji stałej i przykład funkcji zbilansowanej, która przyjmuje dwa argumenty (jej argumentem jest ciąg binarny o długości 2).  \n",
    "\n",
    "**Zadanie.** Zaimplementować obwód kwantowy będący kwantowym odpowiednikiem funkcji  $f(x,y)$ określonej przez działanie na różne ciągi wejściowe:  \n",
    "$f(00) = 1$  \n",
    "$f(11) = 1$  \n",
    "$f(01) = 0$  \n",
    "$f(10) = 0$  "
   ]
  },
  {
   "cell_type": "code",
   "execution_count": null,
   "id": "5db44601-1bb0-4fcf-acad-d81081ffbe32",
   "metadata": {},
   "outputs": [],
   "source": []
  },
  {
   "cell_type": "markdown",
   "id": "d133f5da-d559-4a23-af32-5095afb19834",
   "metadata": {},
   "source": [
    "**Zadanie.** Napisać funkcję, która jako argument przyjmuje długość ciągu $n$, a jako wyniki działania będzie zwracać kwantowy odpowiednik funkcji zbilansowanej działającej na ciągi o długości $n$."
   ]
  },
  {
   "cell_type": "code",
   "execution_count": 3,
   "id": "66acec81-a090-42d8-b665-73cb5dafb885",
   "metadata": {},
   "outputs": [],
   "source": [
    "def constant_function():\n",
    "    pass"
   ]
  },
  {
   "cell_type": "markdown",
   "id": "95d85848-0d4c-4d02-85ef-5356b8c49b8f",
   "metadata": {},
   "source": [
    "**Zadanie.** Napisać funkcję, która jako argument przyjmuje długość ciągu $n$, a jako wyniki działania będzie zwracać kwantowy odpowiednik funkcji zbilansowanej działającej na ciągi o długości $n$."
   ]
  },
  {
   "cell_type": "code",
   "execution_count": 4,
   "id": "e7b77b8a-aeaf-4415-8d63-51d5116ecf39",
   "metadata": {},
   "outputs": [],
   "source": [
    "def balanced_function():\n",
    "    pass"
   ]
  },
  {
   "cell_type": "markdown",
   "id": "a964671b-58eb-447c-9167-a97ace474f44",
   "metadata": {},
   "source": [
    "### 2. Implementacja funkcji $f(x) = x+1$ (tzw. incrementer)  \n",
    "- implementacja funkcji zwiększającej liczbę na wejściu o 1, tzn. $f(x) = x + 1$\n",
    "- na wejściu: 4 kubity (co daje liczby z zakresu 0-15); kolejne kubity odpowiadają kolejnym potęgom dwójki jak w zapisie binarnym; przykładowo, jeśli kubity 0 i 1 są w stanie $\\vert 1 \\rangle$, a pozostałe w stanie $\\vert 0 \\rangle$, to mamy zakodowaną w układzie liczbę 3; jeśli jakiś kubit jest w superpozycji stanów 0 i 1, to mamy niejako równocześnie zakodowane dwie liczby  \n",
    "- na wyjściu: celem jest uzyskanie obwodu, który na wyjściu będzie miał niezerowe współczynniki przy takich kubitach, że będą odpowiadać liczbie o jeden większej niż stan początkowy  \n",
    "\n",
    "**Zadanie.** Zaimplementować *incrementer* na czterech kubitach. Sprawdzić jego działanie na różnych ustawieniach wejściowych.  \n"
   ]
  },
  {
   "cell_type": "code",
   "execution_count": null,
   "id": "503742f9-2f5e-46e8-a2d6-d92b84251d41",
   "metadata": {},
   "outputs": [],
   "source": []
  },
  {
   "cell_type": "markdown",
   "id": "8ad90a83-9d02-46b5-8532-2b6764d22a70",
   "metadata": {},
   "source": [
    "**Zadanie.** Analogicznie zaimplementować funkcję $f(x) = x - 1$, czyli tzw. *decrementer*.  "
   ]
  },
  {
   "cell_type": "code",
   "execution_count": null,
   "id": "44905c01-fecb-4524-b2fb-dd7ed41d86d7",
   "metadata": {},
   "outputs": [],
   "source": []
  },
  {
   "cell_type": "markdown",
   "id": "4e9418e9-63b9-4418-8290-30e5ea226566",
   "metadata": {},
   "source": [
    "**Do zastanowienia.** *Czy można w podobny sposób łatwo zaimplementować mnożenie?* Co może stać na przeszkodzie przy implementowaniu różnych funkcji, jakie reguły mechaniki kwantowej?"
   ]
  },
  {
   "cell_type": "markdown",
   "id": "3bb2d160-b670-4514-bd45-803a7262f49e",
   "metadata": {},
   "source": [
    "### Projekt: Quantum Adder\n",
    "\n",
    "**Zadanie.** Zaimplementować obwód kwantowy, który dla dwóch zadanych liczb naturalnych $a$, $b$ wykona operację $a += b$, czyli \"zamieni\" wartość $a$ na $a+b$.  \n",
    "Wejściem będą dwie liczby naturalne przechowywane analogicznie jak w przypadku *incrementera*. "
   ]
  },
  {
   "cell_type": "code",
   "execution_count": null,
   "id": "b3d31ac6-48b2-4680-8e79-fcefeb1120e7",
   "metadata": {},
   "outputs": [],
   "source": []
  },
  {
   "cell_type": "code",
   "execution_count": null,
   "id": "fa3176a2-7f2e-4a24-a524-5c57bc682650",
   "metadata": {},
   "outputs": [],
   "source": []
  }
 ],
 "metadata": {
  "kernelspec": {
   "display_name": "Python 3 (ipykernel)",
   "language": "python",
   "name": "python3"
  },
  "language_info": {
   "codemirror_mode": {
    "name": "ipython",
    "version": 3
   },
   "file_extension": ".py",
   "mimetype": "text/x-python",
   "name": "python",
   "nbconvert_exporter": "python",
   "pygments_lexer": "ipython3",
   "version": "3.9.2"
  }
 },
 "nbformat": 4,
 "nbformat_minor": 5
}
